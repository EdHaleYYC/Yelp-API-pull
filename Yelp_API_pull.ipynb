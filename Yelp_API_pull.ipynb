{
 "cells": [
  {
   "cell_type": "code",
   "execution_count": 2,
   "id": "de8e6dc4-db43-4dcd-81a8-8cfc319d3a0b",
   "metadata": {},
   "outputs": [],
   "source": [
    "import os\n",
    "import json\n",
    "import pandas as pd\n",
    "from pandas.io.json import to_json\n",
    "import requests\n",
    "from IPython.display import JSON\n"
   ]
  },
  {
   "cell_type": "code",
   "execution_count": 3,
   "id": "2effaf6a-0cd7-4f86-9ad3-950645478fab",
   "metadata": {},
   "outputs": [],
   "source": [
    "#login credentials\n",
    "yelp_user = os.environ.get('YELP API ID')\n",
    "yelp_pwd = os.environ.get('YELP API KEY')\n",
    "foursquare_key = os.environ.get('FOURSQUARE KEY')"
   ]
  },
  {
   "cell_type": "code",
   "execution_count": null,
   "id": "3be7317c-75b0-47e2-97e7-df5b51b3d099",
   "metadata": {},
   "outputs": [],
   "source": []
  },
  {
   "cell_type": "code",
   "execution_count": 4,
   "id": "b11b5f34-bf58-4729-9a53-59cfa042fe75",
   "metadata": {},
   "outputs": [],
   "source": [
    "#API Request Yelp\n",
    "url = 'https://api.yelp.com/v3/businesses/search'\n",
    "\n",
    "header = {\n",
    "    'Authorization': 'Bearer %s' % yelp_pwd\n",
    "}\n",
    "\n",
    "parameters = {'location': 'Signal Hill, Calgary, Alberta',\n",
    "              'term': 'Restaurants',\n",
    "              'radius': 7000}\n"
   ]
  },
  {
   "cell_type": "code",
   "execution_count": 5,
   "id": "b9f33f07-1297-4596-bfc6-2a4681c67dc1",
   "metadata": {},
   "outputs": [
    {
     "data": {
      "text/plain": [
       "<Response [200]>"
      ]
     },
     "execution_count": 5,
     "metadata": {},
     "output_type": "execute_result"
    }
   ],
   "source": [
    "yelp_data = requests.get(url, headers=header, params=parameters)\n",
    "yelp_data"
   ]
  },
  {
   "cell_type": "code",
   "execution_count": 10,
   "id": "92d87987-c30f-4fd3-ad65-6382120f5d24",
   "metadata": {},
   "outputs": [],
   "source": [
    "yelp_json = yelp_data.json()['businesses']"
   ]
  },
  {
   "cell_type": "code",
   "execution_count": 9,
   "id": "0a73ac65-6971-4247-aa78-3391c3bcfb96",
   "metadata": {},
   "outputs": [
    {
     "data": {
      "text/plain": [
       "{'businesses': [{'id': 'LRQBWclZUF-tcFhV87_7fg',\n",
       "   'alias': 'brekkie-cafe-calgary',\n",
       "   'name': 'Brekkie Cafe',\n",
       "   'image_url': 'https://s3-media1.fl.yelpcdn.com/bphoto/-qdWn5ndPtC0Xfl80K1BAg/o.jpg',\n",
       "   'is_closed': False,\n",
       "   'url': 'https://www.yelp.com/biz/brekkie-cafe-calgary?adjust_creative=wggjIlhA8g09yLJPLlucHA&utm_campaign=yelp_api_v3&utm_medium=api_v3_business_search&utm_source=wggjIlhA8g09yLJPLlucHA',\n",
       "   'review_count': 67,\n",
       "   'categories': [{'alias': 'breakfast_brunch',\n",
       "     'title': 'Breakfast & Brunch'}],\n",
       "   'rating': 4.0,\n",
       "   'coordinates': {'latitude': 51.0607949, 'longitude': -114.2103551},\n",
       "   'transactions': [],\n",
       "   'price': '$$',\n",
       "   'location': {'address1': '125-20 Westpark Link SW',\n",
       "    'address2': None,\n",
       "    'address3': None,\n",
       "    'city': 'Calgary',\n",
       "    'zip_code': 'T3H 0V5',\n",
       "    'country': 'CA',\n",
       "    'state': 'AB',\n",
       "    'display_address': ['125-20 Westpark Link SW',\n",
       "     'Calgary, AB T3H 0V5',\n",
       "     'Canada']},\n",
       "   'phone': '+14034529005',\n",
       "   'display_phone': '+1 403-452-9005',\n",
       "   'distance': 4530.433090281489},\n",
       "  {'id': 'SYCgakqaEBTjRhOVFXjV3g',\n",
       "   'alias': 'notable-the-restaurant-calgary',\n",
       "   'name': 'NOtaBLE The Restaurant',\n",
       "   'image_url': 'https://s3-media2.fl.yelpcdn.com/bphoto/lu3jh2QXIMmAvUyVAEtUDQ/o.jpg',\n",
       "   'is_closed': False,\n",
       "   'url': 'https://www.yelp.com/biz/notable-the-restaurant-calgary?adjust_creative=wggjIlhA8g09yLJPLlucHA&utm_campaign=yelp_api_v3&utm_medium=api_v3_business_search&utm_source=wggjIlhA8g09yLJPLlucHA',\n",
       "   'review_count': 255,\n",
       "   'categories': [{'alias': 'newcanadian', 'title': 'Canadian (New)'}],\n",
       "   'rating': 4.0,\n",
       "   'coordinates': {'latitude': 51.0718271728617,\n",
       "    'longitude': -114.159737967571},\n",
       "   'transactions': [],\n",
       "   'price': '$$$',\n",
       "   'location': {'address1': '4611 Bowness Road NW',\n",
       "    'address2': '',\n",
       "    'address3': '',\n",
       "    'city': 'Calgary',\n",
       "    'zip_code': 'T3B 0B2',\n",
       "    'country': 'CA',\n",
       "    'state': 'AB',\n",
       "    'display_address': ['4611 Bowness Road NW',\n",
       "     'Calgary, AB T3B 0B2',\n",
       "     'Canada']},\n",
       "   'phone': '+14032884372',\n",
       "   'display_phone': '+1 403-288-4372',\n",
       "   'distance': 5441.604296702223},\n",
       "  {'id': 'llad5ng0sxHkWrK1ZlswxA',\n",
       "   'alias': 'the-himalayan-calgary',\n",
       "   'name': 'The Himalayan',\n",
       "   'image_url': 'https://s3-media3.fl.yelpcdn.com/bphoto/qM3J5nkrA0kJaUiBGH5SYw/o.jpg',\n",
       "   'is_closed': False,\n",
       "   'url': 'https://www.yelp.com/biz/the-himalayan-calgary?adjust_creative=wggjIlhA8g09yLJPLlucHA&utm_campaign=yelp_api_v3&utm_medium=api_v3_business_search&utm_source=wggjIlhA8g09yLJPLlucHA',\n",
       "   'review_count': 249,\n",
       "   'categories': [{'alias': 'himalayan', 'title': 'Himalayan/Nepalese'}],\n",
       "   'rating': 4.5,\n",
       "   'coordinates': {'latitude': 51.038087, 'longitude': -114.133631},\n",
       "   'transactions': [],\n",
       "   'price': '$$',\n",
       "   'location': {'address1': '3218 17 Avenue SW',\n",
       "    'address2': '',\n",
       "    'address3': '',\n",
       "    'city': 'Calgary',\n",
       "    'zip_code': 'T3E 0B3',\n",
       "    'country': 'CA',\n",
       "    'state': 'AB',\n",
       "    'display_address': ['3218 17 Avenue SW', 'Calgary, AB T3E 0B3', 'Canada']},\n",
       "   'phone': '+14039843384',\n",
       "   'display_phone': '+1 403-984-3384',\n",
       "   'distance': 3528.85935656803},\n",
       "  {'id': '_YlcU-ET7dIiE0h6WpwE7Q',\n",
       "   'alias': 'spot-on-kitchen-and-bar-calgary',\n",
       "   'name': 'Spot On Kitchen & Bar',\n",
       "   'image_url': 'https://s3-media2.fl.yelpcdn.com/bphoto/bKntq3VEsnrevRH3x_TJXQ/o.jpg',\n",
       "   'is_closed': False,\n",
       "   'url': 'https://www.yelp.com/biz/spot-on-kitchen-and-bar-calgary?adjust_creative=wggjIlhA8g09yLJPLlucHA&utm_campaign=yelp_api_v3&utm_medium=api_v3_business_search&utm_source=wggjIlhA8g09yLJPLlucHA',\n",
       "   'review_count': 39,\n",
       "   'categories': [{'alias': 'comfortfood', 'title': 'Comfort Food'},\n",
       "    {'alias': 'wine_bars', 'title': 'Wine Bars'},\n",
       "    {'alias': 'pizza', 'title': 'Pizza'}],\n",
       "   'rating': 4.0,\n",
       "   'coordinates': {'latitude': 51.006175841741,\n",
       "    'longitude': -114.129898421151},\n",
       "   'transactions': [],\n",
       "   'price': '$$',\n",
       "   'location': {'address1': '2 Richard Way SW',\n",
       "    'address2': 'Unit 2',\n",
       "    'address3': '',\n",
       "    'city': 'Calgary',\n",
       "    'zip_code': 'T3E 7M9',\n",
       "    'country': 'CA',\n",
       "    'state': 'AB',\n",
       "    'display_address': ['2 Richard Way SW',\n",
       "     'Unit 2',\n",
       "     'Calgary, AB T3E 7M9',\n",
       "     'Canada']},\n",
       "   'phone': '+14032403619',\n",
       "   'display_phone': '+1 403-240-3619',\n",
       "   'distance': 4002.0035034918515},\n",
       "  {'id': '1rbEEySUdZAYeam-jtg48g',\n",
       "   'alias': 'shimizu-kitchen-calgary',\n",
       "   'name': 'Shimizu Kitchen',\n",
       "   'image_url': 'https://s3-media2.fl.yelpcdn.com/bphoto/tBOChkLyT1H4cIyw5G_eLQ/o.jpg',\n",
       "   'is_closed': False,\n",
       "   'url': 'https://www.yelp.com/biz/shimizu-kitchen-calgary?adjust_creative=wggjIlhA8g09yLJPLlucHA&utm_campaign=yelp_api_v3&utm_medium=api_v3_business_search&utm_source=wggjIlhA8g09yLJPLlucHA',\n",
       "   'review_count': 14,\n",
       "   'categories': [{'alias': 'ramen', 'title': 'Ramen'}],\n",
       "   'rating': 4.5,\n",
       "   'coordinates': {'latitude': 51.036998, 'longitude': -114.1410651},\n",
       "   'transactions': [],\n",
       "   'location': {'address1': '1918 37 Street SW',\n",
       "    'address2': None,\n",
       "    'address3': '',\n",
       "    'city': 'Calgary',\n",
       "    'zip_code': 'T3E 3A3',\n",
       "    'country': 'CA',\n",
       "    'state': 'AB',\n",
       "    'display_address': ['1918 37 Street SW', 'Calgary, AB T3E 3A3', 'Canada']},\n",
       "   'phone': '+14034553380',\n",
       "   'display_phone': '+1 403-455-3380',\n",
       "   'distance': 3028.3179146204525},\n",
       "  {'id': 'saOLWsJa29PXZk_a-VUpyw',\n",
       "   'alias': 'hodu-namu-korean-restaurant-calgary',\n",
       "   'name': 'Hodu Namu Korean Restaurant',\n",
       "   'image_url': 'https://s3-media4.fl.yelpcdn.com/bphoto/mZwohnt5OPLlwCDr5WBnzQ/o.jpg',\n",
       "   'is_closed': False,\n",
       "   'url': 'https://www.yelp.com/biz/hodu-namu-korean-restaurant-calgary?adjust_creative=wggjIlhA8g09yLJPLlucHA&utm_campaign=yelp_api_v3&utm_medium=api_v3_business_search&utm_source=wggjIlhA8g09yLJPLlucHA',\n",
       "   'review_count': 6,\n",
       "   'categories': [{'alias': 'korean', 'title': 'Korean'}],\n",
       "   'rating': 4.5,\n",
       "   'coordinates': {'latitude': 51.013033, 'longitude': -114.140311},\n",
       "   'transactions': [],\n",
       "   'location': {'address1': '33B-4604 37 Street SW',\n",
       "    'address2': None,\n",
       "    'address3': None,\n",
       "    'city': 'Calgary',\n",
       "    'zip_code': 'T3E 3C9',\n",
       "    'country': 'CA',\n",
       "    'state': 'AB',\n",
       "    'display_address': ['33B-4604 37 Street SW',\n",
       "     'Calgary, AB T3E 3C9',\n",
       "     'Canada']},\n",
       "   'phone': '+15873563565',\n",
       "   'display_phone': '+1 587-356-3565',\n",
       "   'distance': 3001.004920736665},\n",
       "  {'id': 'ZjJ1n-MmnZ9D2dFjKphoBQ',\n",
       "   'alias': 'mercato-west-calgary',\n",
       "   'name': 'Mercato West',\n",
       "   'image_url': 'https://s3-media2.fl.yelpcdn.com/bphoto/7G1AyJhIlzFc-5LIFYTFgQ/o.jpg',\n",
       "   'is_closed': False,\n",
       "   'url': 'https://www.yelp.com/biz/mercato-west-calgary?adjust_creative=wggjIlhA8g09yLJPLlucHA&utm_campaign=yelp_api_v3&utm_medium=api_v3_business_search&utm_source=wggjIlhA8g09yLJPLlucHA',\n",
       "   'review_count': 31,\n",
       "   'categories': [{'alias': 'italian', 'title': 'Italian'}],\n",
       "   'rating': 3.5,\n",
       "   'coordinates': {'latitude': 51.060796213234, 'longitude': -114.21252563918},\n",
       "   'transactions': [],\n",
       "   'price': '$$$',\n",
       "   'location': {'address1': '873 85th Street SW',\n",
       "    'address2': 'Unit 5000',\n",
       "    'address3': '',\n",
       "    'city': 'Calgary',\n",
       "    'zip_code': 'T3H 0J5',\n",
       "    'country': 'CA',\n",
       "    'state': 'AB',\n",
       "    'display_address': ['873 85th Street SW',\n",
       "     'Unit 5000',\n",
       "     'Calgary, AB T3H 0J5',\n",
       "     'Canada']},\n",
       "   'phone': '+14032636996',\n",
       "   'display_phone': '+1 403-263-6996',\n",
       "   'distance': 4666.022845518904},\n",
       "  {'id': 'i5Y5KynFw1r_JkwHSxluIg',\n",
       "   'alias': 'signature-palace-restaurant-calgary',\n",
       "   'name': 'Signature Palace Restaurant',\n",
       "   'image_url': 'https://s3-media2.fl.yelpcdn.com/bphoto/thWcxgDOfz1hVxuDEVk9Yg/o.jpg',\n",
       "   'is_closed': False,\n",
       "   'url': 'https://www.yelp.com/biz/signature-palace-restaurant-calgary?adjust_creative=wggjIlhA8g09yLJPLlucHA&utm_campaign=yelp_api_v3&utm_medium=api_v3_business_search&utm_source=wggjIlhA8g09yLJPLlucHA',\n",
       "   'review_count': 10,\n",
       "   'categories': [{'alias': 'chinese', 'title': 'Chinese'}],\n",
       "   'rating': 3.5,\n",
       "   'coordinates': {'latitude': 51.0364, 'longitude': -114.166795},\n",
       "   'transactions': [],\n",
       "   'price': '$$',\n",
       "   'location': {'address1': '1919 Sirocco Drive SW',\n",
       "    'address2': 'Unit 206',\n",
       "    'address3': '',\n",
       "    'city': 'Calgary',\n",
       "    'zip_code': 'T3H 2Y3',\n",
       "    'country': 'CA',\n",
       "    'state': 'AB',\n",
       "    'display_address': ['1919 Sirocco Drive SW',\n",
       "     'Unit 206',\n",
       "     'Calgary, AB T3H 2Y3',\n",
       "     'Canada']},\n",
       "   'phone': '+14032468883',\n",
       "   'display_phone': '+1 403-246-8883',\n",
       "   'distance': 1587.2713188512344},\n",
       "  {'id': 'oy9SMqeshfRrgTuJvc9s8g',\n",
       "   'alias': 'pho-huong-viet-noodle-house-calgary',\n",
       "   'name': 'Pho Huong Viet Noodle House',\n",
       "   'image_url': 'https://s3-media2.fl.yelpcdn.com/bphoto/yemoBhh1fgeECUMQSqCOaQ/o.jpg',\n",
       "   'is_closed': False,\n",
       "   'url': 'https://www.yelp.com/biz/pho-huong-viet-noodle-house-calgary?adjust_creative=wggjIlhA8g09yLJPLlucHA&utm_campaign=yelp_api_v3&utm_medium=api_v3_business_search&utm_source=wggjIlhA8g09yLJPLlucHA',\n",
       "   'review_count': 83,\n",
       "   'categories': [{'alias': 'vietnamese', 'title': 'Vietnamese'}],\n",
       "   'rating': 4.0,\n",
       "   'coordinates': {'latitude': 51.03733, 'longitude': -114.14278},\n",
       "   'transactions': [],\n",
       "   'price': '$',\n",
       "   'location': {'address1': '3855 17th Avenue SW',\n",
       "    'address2': '',\n",
       "    'address3': '',\n",
       "    'city': 'Calgary',\n",
       "    'zip_code': 'T3E 0C3',\n",
       "    'country': 'CA',\n",
       "    'state': 'AB',\n",
       "    'display_address': ['3855 17th Avenue SW',\n",
       "     'Calgary, AB T3E 0C3',\n",
       "     'Canada']},\n",
       "   'phone': '+14036863799',\n",
       "   'display_phone': '+1 403-686-3799',\n",
       "   'distance': 2920.020896627504},\n",
       "  {'id': 'c0dMOGUySidcUgPRaN0nEA',\n",
       "   'alias': 'fergus-and-bix-calgary',\n",
       "   'name': 'Fergus & Bix',\n",
       "   'image_url': 'https://s3-media1.fl.yelpcdn.com/bphoto/7GPoOHfgOR1XFxhhSFytrQ/o.jpg',\n",
       "   'is_closed': False,\n",
       "   'url': 'https://www.yelp.com/biz/fergus-and-bix-calgary?adjust_creative=wggjIlhA8g09yLJPLlucHA&utm_campaign=yelp_api_v3&utm_medium=api_v3_business_search&utm_source=wggjIlhA8g09yLJPLlucHA',\n",
       "   'review_count': 42,\n",
       "   'categories': [{'alias': 'newcanadian', 'title': 'Canadian (New)'},\n",
       "    {'alias': 'bars', 'title': 'Bars'},\n",
       "    {'alias': 'sandwiches', 'title': 'Sandwiches'}],\n",
       "   'rating': 3.5,\n",
       "   'coordinates': {'latitude': 51.0599204489161,\n",
       "    'longitude': -114.211972421975},\n",
       "   'transactions': [],\n",
       "   'price': '$$',\n",
       "   'location': {'address1': '873  85th Street SW',\n",
       "    'address2': 'Suite 2000',\n",
       "    'address3': '',\n",
       "    'city': 'Calgary',\n",
       "    'zip_code': 'T3H 4C8',\n",
       "    'country': 'CA',\n",
       "    'state': 'AB',\n",
       "    'display_address': ['873  85th Street SW',\n",
       "     'Suite 2000',\n",
       "     'Calgary, AB T3H 4C8',\n",
       "     'Canada']},\n",
       "   'phone': '+14034573344',\n",
       "   'display_phone': '+1 403-457-3344',\n",
       "   'distance': 4562.376885572471},\n",
       "  {'id': 'kYxZJINpHlGjhCwUJtpWHg',\n",
       "   'alias': 'cassis-bistro-calgary-3',\n",
       "   'name': 'Cassis Bistro',\n",
       "   'image_url': 'https://s3-media3.fl.yelpcdn.com/bphoto/as9cPlCqBcfwzJ88ZQeBnA/o.jpg',\n",
       "   'is_closed': False,\n",
       "   'url': 'https://www.yelp.com/biz/cassis-bistro-calgary-3?adjust_creative=wggjIlhA8g09yLJPLlucHA&utm_campaign=yelp_api_v3&utm_medium=api_v3_business_search&utm_source=wggjIlhA8g09yLJPLlucHA',\n",
       "   'review_count': 65,\n",
       "   'categories': [{'alias': 'french', 'title': 'French'}],\n",
       "   'rating': 4.5,\n",
       "   'coordinates': {'latitude': 51.037419, 'longitude': -114.118082},\n",
       "   'transactions': [],\n",
       "   'price': '$$$',\n",
       "   'location': {'address1': '2505 17th Avenue SW',\n",
       "    'address2': 'Suite 105',\n",
       "    'address3': '',\n",
       "    'city': 'Calgary',\n",
       "    'zip_code': 'T3E 7V3',\n",
       "    'country': 'CA',\n",
       "    'state': 'AB',\n",
       "    'display_address': ['2505 17th Avenue SW',\n",
       "     'Suite 105',\n",
       "     'Calgary, AB T3E 7V3',\n",
       "     'Canada']},\n",
       "   'phone': '+14032620036',\n",
       "   'display_phone': '+1 403-262-0036',\n",
       "   'distance': 4510.454588938639},\n",
       "  {'id': '8pMQ853oXgTFmZGAAJ2IfQ',\n",
       "   'alias': 'morning-brunch-co-calgary-2',\n",
       "   'name': 'Morning Brunch Co.',\n",
       "   'image_url': 'https://s3-media1.fl.yelpcdn.com/bphoto/R0gXJiEtjzjCkxo_AIY3-g/o.jpg',\n",
       "   'is_closed': False,\n",
       "   'url': 'https://www.yelp.com/biz/morning-brunch-co-calgary-2?adjust_creative=wggjIlhA8g09yLJPLlucHA&utm_campaign=yelp_api_v3&utm_medium=api_v3_business_search&utm_source=wggjIlhA8g09yLJPLlucHA',\n",
       "   'review_count': 3,\n",
       "   'categories': [{'alias': 'breakfast_brunch',\n",
       "     'title': 'Breakfast & Brunch'}],\n",
       "   'rating': 4.5,\n",
       "   'coordinates': {'latitude': 51.066713882651996,\n",
       "    'longitude': -114.209490274205},\n",
       "   'transactions': [],\n",
       "   'location': {'address1': '315 - 722 85th Street SW',\n",
       "    'address2': '',\n",
       "    'address3': None,\n",
       "    'city': 'Calgary',\n",
       "    'zip_code': 'T3H 1S6',\n",
       "    'country': 'CA',\n",
       "    'state': 'AB',\n",
       "    'display_address': ['315 - 722 85th Street SW',\n",
       "     'Calgary, AB T3H 1S6',\n",
       "     'Canada']},\n",
       "   'phone': '+14039842910',\n",
       "   'display_phone': '+1 403-984-2910',\n",
       "   'distance': 5155.575556563355},\n",
       "  {'id': 'WUkbvU3jMCaCW4o2xhIeBA',\n",
       "   'alias': 'haru-sushi-calgary',\n",
       "   'name': 'Haru Sushi',\n",
       "   'image_url': 'https://s3-media3.fl.yelpcdn.com/bphoto/I80TbcGjjV8PaVMgd-xiVA/o.jpg',\n",
       "   'is_closed': False,\n",
       "   'url': 'https://www.yelp.com/biz/haru-sushi-calgary?adjust_creative=wggjIlhA8g09yLJPLlucHA&utm_campaign=yelp_api_v3&utm_medium=api_v3_business_search&utm_source=wggjIlhA8g09yLJPLlucHA',\n",
       "   'review_count': 26,\n",
       "   'categories': [{'alias': 'sushi', 'title': 'Sushi Bars'}],\n",
       "   'rating': 4.0,\n",
       "   'coordinates': {'latitude': 51.034721329851656,\n",
       "    'longitude': -114.1908818427205},\n",
       "   'transactions': [],\n",
       "   'price': '$$',\n",
       "   'location': {'address1': '128-30 Springborough Boulevard SW',\n",
       "    'address2': '',\n",
       "    'address3': '',\n",
       "    'city': 'Calgary',\n",
       "    'zip_code': 'T3H 0N9',\n",
       "    'country': 'CA',\n",
       "    'state': 'AB',\n",
       "    'display_address': ['128-30 Springborough Boulevard SW',\n",
       "     'Calgary, AB T3H 0N9',\n",
       "     'Canada']},\n",
       "   'phone': '+14034572211',\n",
       "   'display_phone': '+1 403-457-2211',\n",
       "   'distance': 1405.247553957688},\n",
       "  {'id': 'ghT3K4w_zGd6xUTIR_9G9g',\n",
       "   'alias': 'san-dong-banjeom-calgary',\n",
       "   'name': 'San Dong Banjeom',\n",
       "   'image_url': 'https://s3-media1.fl.yelpcdn.com/bphoto/xa250hTmE-Z04kqP28iS6Q/o.jpg',\n",
       "   'is_closed': False,\n",
       "   'url': 'https://www.yelp.com/biz/san-dong-banjeom-calgary?adjust_creative=wggjIlhA8g09yLJPLlucHA&utm_campaign=yelp_api_v3&utm_medium=api_v3_business_search&utm_source=wggjIlhA8g09yLJPLlucHA',\n",
       "   'review_count': 22,\n",
       "   'categories': [{'alias': 'korean', 'title': 'Korean'}],\n",
       "   'rating': 4.5,\n",
       "   'coordinates': {'latitude': 51.02991060476724,\n",
       "    'longitude': -114.14185017301634},\n",
       "   'transactions': [],\n",
       "   'price': '$$',\n",
       "   'location': {'address1': '3803 26 Avenue SW',\n",
       "    'address2': '',\n",
       "    'address3': '',\n",
       "    'city': 'Calgary',\n",
       "    'zip_code': 'T3E 6V7',\n",
       "    'country': 'CA',\n",
       "    'state': 'AB',\n",
       "    'display_address': ['3803 26 Avenue SW', 'Calgary, AB T3E 6V7', 'Canada']},\n",
       "   'phone': '+14032178855',\n",
       "   'display_phone': '+1 403-217-8855',\n",
       "   'distance': 2681.3654032166924},\n",
       "  {'id': 'KOZwtZQCDXykE-nF6AzT-g',\n",
       "   'alias': 'famoso-neapolitan-pizzeria-calgary-5',\n",
       "   'name': 'Famoso Neapolitan Pizzeria',\n",
       "   'image_url': 'https://s3-media2.fl.yelpcdn.com/bphoto/RSYsjs4miKFwHe7g-aOFLw/o.jpg',\n",
       "   'is_closed': False,\n",
       "   'url': 'https://www.yelp.com/biz/famoso-neapolitan-pizzeria-calgary-5?adjust_creative=wggjIlhA8g09yLJPLlucHA&utm_campaign=yelp_api_v3&utm_medium=api_v3_business_search&utm_source=wggjIlhA8g09yLJPLlucHA',\n",
       "   'review_count': 30,\n",
       "   'categories': [{'alias': 'pizza', 'title': 'Pizza'},\n",
       "    {'alias': 'italian', 'title': 'Italian'}],\n",
       "   'rating': 3.5,\n",
       "   'coordinates': {'latitude': 51.016869, 'longitude': -114.168888},\n",
       "   'transactions': [],\n",
       "   'price': '$$',\n",
       "   'location': {'address1': '125 Stewart Green SW',\n",
       "    'address2': '',\n",
       "    'address3': '',\n",
       "    'city': 'Calgary',\n",
       "    'zip_code': 'T3H 2X5',\n",
       "    'country': 'CA',\n",
       "    'state': 'AB',\n",
       "    'display_address': ['125 Stewart Green SW',\n",
       "     'Calgary, AB T3H 2X5',\n",
       "     'Canada']},\n",
       "   'phone': '+14032422222',\n",
       "   'display_phone': '+1 403-242-2222',\n",
       "   'distance': 1108.409140599866},\n",
       "  {'id': 'XUw8v38VCVn1upZxv1_FQw',\n",
       "   'alias': 'levilla-restaurant-calgary',\n",
       "   'name': 'LeVilla Restaurant',\n",
       "   'image_url': 'https://s3-media2.fl.yelpcdn.com/bphoto/pCLOMuWvIb-JRrpK-zN9xg/o.jpg',\n",
       "   'is_closed': False,\n",
       "   'url': 'https://www.yelp.com/biz/levilla-restaurant-calgary?adjust_creative=wggjIlhA8g09yLJPLlucHA&utm_campaign=yelp_api_v3&utm_medium=api_v3_business_search&utm_source=wggjIlhA8g09yLJPLlucHA',\n",
       "   'review_count': 30,\n",
       "   'categories': [{'alias': 'steak', 'title': 'Steakhouses'},\n",
       "    {'alias': 'seafood', 'title': 'Seafood'}],\n",
       "   'rating': 3.5,\n",
       "   'coordinates': {'latitude': 51.037142, 'longitude': -114.167386},\n",
       "   'transactions': [],\n",
       "   'price': '$$$',\n",
       "   'location': {'address1': '404 - 1851 Sirocco Drive SW',\n",
       "    'address2': '',\n",
       "    'address3': '',\n",
       "    'city': 'Calgary',\n",
       "    'zip_code': 'T3H 4R5',\n",
       "    'country': 'CA',\n",
       "    'state': 'AB',\n",
       "    'display_address': ['404 - 1851 Sirocco Drive SW',\n",
       "     'Calgary, AB T3H 4R5',\n",
       "     'Canada']},\n",
       "   'phone': '+14032179699',\n",
       "   'display_phone': '+1 403-217-9699',\n",
       "   'distance': 1635.7513336115555},\n",
       "  {'id': '9WdA_roRy2IE45zdZ98baA',\n",
       "   'alias': 'han-chao-taste-of-asia-calgary',\n",
       "   'name': 'Han Chao, Taste of Asia',\n",
       "   'image_url': '',\n",
       "   'is_closed': False,\n",
       "   'url': 'https://www.yelp.com/biz/han-chao-taste-of-asia-calgary?adjust_creative=wggjIlhA8g09yLJPLlucHA&utm_campaign=yelp_api_v3&utm_medium=api_v3_business_search&utm_source=wggjIlhA8g09yLJPLlucHA',\n",
       "   'review_count': 5,\n",
       "   'categories': [{'alias': 'vietnamese', 'title': 'Vietnamese'},\n",
       "    {'alias': 'thai', 'title': 'Thai'},\n",
       "    {'alias': 'chinese', 'title': 'Chinese'}],\n",
       "   'rating': 4.5,\n",
       "   'coordinates': {'latitude': 51.038795, 'longitude': -114.207445},\n",
       "   'transactions': [],\n",
       "   'price': '$$',\n",
       "   'location': {'address1': '108-306 Aspen Glen Landing SW',\n",
       "    'address2': '',\n",
       "    'address3': '',\n",
       "    'city': 'Calgary',\n",
       "    'zip_code': 'T3H 0N5',\n",
       "    'country': 'CA',\n",
       "    'state': 'AB',\n",
       "    'display_address': ['108-306 Aspen Glen Landing SW',\n",
       "     'Calgary, AB T3H 0N5',\n",
       "     'Canada']},\n",
       "   'phone': '+14032628799',\n",
       "   'display_phone': '+1 403-262-8799',\n",
       "   'distance': 2539.7991516019024},\n",
       "  {'id': '7FAczuNhjGLk46wOuYSpyw',\n",
       "   'alias': 'hot-n-fast-chinese-kitchen-calgary',\n",
       "   'name': \"Hot 'n' Fast Chinese Kitchen\",\n",
       "   'image_url': 'https://s3-media1.fl.yelpcdn.com/bphoto/v8dHZb_Ou8j4a8SG9M7-AA/o.jpg',\n",
       "   'is_closed': False,\n",
       "   'url': 'https://www.yelp.com/biz/hot-n-fast-chinese-kitchen-calgary?adjust_creative=wggjIlhA8g09yLJPLlucHA&utm_campaign=yelp_api_v3&utm_medium=api_v3_business_search&utm_source=wggjIlhA8g09yLJPLlucHA',\n",
       "   'review_count': 8,\n",
       "   'categories': [{'alias': 'chinese', 'title': 'Chinese'}],\n",
       "   'rating': 4.0,\n",
       "   'coordinates': {'latitude': 51.01554, 'longitude': -114.17548},\n",
       "   'transactions': [],\n",
       "   'price': '$',\n",
       "   'location': {'address1': '7337 Sierra Morena Blvd SW',\n",
       "    'address2': '',\n",
       "    'address3': '',\n",
       "    'city': 'Calgary',\n",
       "    'zip_code': 'T3H 3V4',\n",
       "    'country': 'CA',\n",
       "    'state': 'AB',\n",
       "    'display_address': ['7337 Sierra Morena Blvd SW',\n",
       "     'Calgary, AB T3H 3V4',\n",
       "     'Canada']},\n",
       "   'phone': '+14036863833',\n",
       "   'display_phone': '+1 403-686-3833',\n",
       "   'distance': 1036.4783270649343},\n",
       "  {'id': 'bwYa79qvv5DQV6RJhnl8rQ',\n",
       "   'alias': 'the-brokin-yolk-calgary-2',\n",
       "   'name': \"The Bro'Kin Yolk\",\n",
       "   'image_url': 'https://s3-media2.fl.yelpcdn.com/bphoto/eNmUU8Ik5xJFe-_chAzFLg/o.jpg',\n",
       "   'is_closed': False,\n",
       "   'url': 'https://www.yelp.com/biz/the-brokin-yolk-calgary-2?adjust_creative=wggjIlhA8g09yLJPLlucHA&utm_campaign=yelp_api_v3&utm_medium=api_v3_business_search&utm_source=wggjIlhA8g09yLJPLlucHA',\n",
       "   'review_count': 18,\n",
       "   'categories': [{'alias': 'breakfast_brunch',\n",
       "     'title': 'Breakfast & Brunch'}],\n",
       "   'rating': 4.0,\n",
       "   'coordinates': {'latitude': 51.0182807, 'longitude': -114.1711201},\n",
       "   'transactions': [],\n",
       "   'location': {'address1': '5691 Signal Hill Centre SW',\n",
       "    'address2': '',\n",
       "    'address3': None,\n",
       "    'city': 'Calgary',\n",
       "    'zip_code': 'T3H 3P8',\n",
       "    'country': 'CA',\n",
       "    'state': 'AB',\n",
       "    'display_address': ['5691 Signal Hill Centre SW',\n",
       "     'Calgary, AB T3H 3P8',\n",
       "     'Canada']},\n",
       "   'phone': '+14036853316',\n",
       "   'display_phone': '+1 403-685-3316',\n",
       "   'distance': 930.7170452693465},\n",
       "  {'id': 'TOCQt6eOtpIBa5iMubG14w',\n",
       "   'alias': 'sauce-italian-market-calgary',\n",
       "   'name': 'Sauce Italian  Market',\n",
       "   'image_url': 'https://s3-media4.fl.yelpcdn.com/bphoto/0mG7wAu8ZdmTgh6Vtr_iTg/o.jpg',\n",
       "   'is_closed': False,\n",
       "   'url': 'https://www.yelp.com/biz/sauce-italian-market-calgary?adjust_creative=wggjIlhA8g09yLJPLlucHA&utm_campaign=yelp_api_v3&utm_medium=api_v3_business_search&utm_source=wggjIlhA8g09yLJPLlucHA',\n",
       "   'review_count': 49,\n",
       "   'categories': [{'alias': 'italian', 'title': 'Italian'},\n",
       "    {'alias': 'cafes', 'title': 'Cafes'}],\n",
       "   'rating': 3.5,\n",
       "   'coordinates': {'latitude': 51.0379736265717,\n",
       "    'longitude': -114.135098755372},\n",
       "   'transactions': [],\n",
       "   'price': '$$',\n",
       "   'location': {'address1': '3326 17th Avenue SW',\n",
       "    'address2': '',\n",
       "    'address3': '',\n",
       "    'city': 'Calgary',\n",
       "    'zip_code': 'T3E 0B4',\n",
       "    'country': 'CA',\n",
       "    'state': 'AB',\n",
       "    'display_address': ['3326 17th Avenue SW',\n",
       "     'Calgary, AB T3E 0B4',\n",
       "     'Canada']},\n",
       "   'phone': '+14037277627',\n",
       "   'display_phone': '+1 403-727-7627',\n",
       "   'distance': 3430.9297025077535}],\n",
       " 'total': 258,\n",
       " 'region': {'center': {'longitude': -114.17919158935547,\n",
       "   'latitude': 51.02444239506187}}}"
      ]
     },
     "execution_count": 9,
     "metadata": {},
     "output_type": "execute_result"
    }
   ],
   "source": [
    "yelp_json"
   ]
  },
  {
   "cell_type": "code",
   "execution_count": 10,
   "id": "74b5befe-62ee-452f-a69d-54c2bf557d35",
   "metadata": {},
   "outputs": [],
   "source": [
    "#save yelp json data\n",
    "out_file = open('yelp_data.json', 'w')\n",
    "\n",
    "json.dump(yelp_json, out_file, indent=6)\n",
    "\n",
    "out_file.close()"
   ]
  },
  {
   "cell_type": "code",
   "execution_count": 11,
   "id": "326dee37-3d50-4b61-b01e-7ad5edec9699",
   "metadata": {},
   "outputs": [],
   "source": [
    "df = pd.read_json('yelp_data.json')"
   ]
  },
  {
   "cell_type": "code",
   "execution_count": 12,
   "id": "a86bf4b5-1065-47d7-b2e8-7b82d13525a1",
   "metadata": {},
   "outputs": [
    {
     "data": {
      "text/html": [
       "<div>\n",
       "<style scoped>\n",
       "    .dataframe tbody tr th:only-of-type {\n",
       "        vertical-align: middle;\n",
       "    }\n",
       "\n",
       "    .dataframe tbody tr th {\n",
       "        vertical-align: top;\n",
       "    }\n",
       "\n",
       "    .dataframe thead th {\n",
       "        text-align: right;\n",
       "    }\n",
       "</style>\n",
       "<table border=\"1\" class=\"dataframe\">\n",
       "  <thead>\n",
       "    <tr style=\"text-align: right;\">\n",
       "      <th></th>\n",
       "      <th>id</th>\n",
       "      <th>alias</th>\n",
       "      <th>name</th>\n",
       "      <th>image_url</th>\n",
       "      <th>is_closed</th>\n",
       "      <th>url</th>\n",
       "      <th>review_count</th>\n",
       "      <th>categories</th>\n",
       "      <th>rating</th>\n",
       "      <th>coordinates</th>\n",
       "      <th>transactions</th>\n",
       "      <th>price</th>\n",
       "      <th>location</th>\n",
       "      <th>phone</th>\n",
       "      <th>display_phone</th>\n",
       "      <th>distance</th>\n",
       "    </tr>\n",
       "  </thead>\n",
       "  <tbody>\n",
       "    <tr>\n",
       "      <th>0</th>\n",
       "      <td>LRQBWclZUF-tcFhV87_7fg</td>\n",
       "      <td>brekkie-cafe-calgary</td>\n",
       "      <td>Brekkie Cafe</td>\n",
       "      <td>https://s3-media1.fl.yelpcdn.com/bphoto/-qdWn5...</td>\n",
       "      <td>False</td>\n",
       "      <td>https://www.yelp.com/biz/brekkie-cafe-calgary?...</td>\n",
       "      <td>65</td>\n",
       "      <td>[{'alias': 'breakfast_brunch', 'title': 'Break...</td>\n",
       "      <td>4.0</td>\n",
       "      <td>{'latitude': 51.0607949, 'longitude': -114.210...</td>\n",
       "      <td>[]</td>\n",
       "      <td>$$</td>\n",
       "      <td>{'address1': '125-20 Westpark Link SW', 'addre...</td>\n",
       "      <td>14034529005</td>\n",
       "      <td>+1 403-452-9005</td>\n",
       "      <td>4530.433090</td>\n",
       "    </tr>\n",
       "    <tr>\n",
       "      <th>1</th>\n",
       "      <td>SYCgakqaEBTjRhOVFXjV3g</td>\n",
       "      <td>notable-the-restaurant-calgary</td>\n",
       "      <td>NOtaBLE The Restaurant</td>\n",
       "      <td>https://s3-media4.fl.yelpcdn.com/bphoto/yVOOyj...</td>\n",
       "      <td>False</td>\n",
       "      <td>https://www.yelp.com/biz/notable-the-restauran...</td>\n",
       "      <td>252</td>\n",
       "      <td>[{'alias': 'newcanadian', 'title': 'Canadian (...</td>\n",
       "      <td>4.0</td>\n",
       "      <td>{'latitude': 51.0718271728617, 'longitude': -1...</td>\n",
       "      <td>[]</td>\n",
       "      <td>$$$</td>\n",
       "      <td>{'address1': '4611 Bowness Road NW', 'address2...</td>\n",
       "      <td>14032884372</td>\n",
       "      <td>+1 403-288-4372</td>\n",
       "      <td>5441.604297</td>\n",
       "    </tr>\n",
       "  </tbody>\n",
       "</table>\n",
       "</div>"
      ],
      "text/plain": [
       "                       id                           alias  \\\n",
       "0  LRQBWclZUF-tcFhV87_7fg            brekkie-cafe-calgary   \n",
       "1  SYCgakqaEBTjRhOVFXjV3g  notable-the-restaurant-calgary   \n",
       "\n",
       "                     name                                          image_url  \\\n",
       "0            Brekkie Cafe  https://s3-media1.fl.yelpcdn.com/bphoto/-qdWn5...   \n",
       "1  NOtaBLE The Restaurant  https://s3-media4.fl.yelpcdn.com/bphoto/yVOOyj...   \n",
       "\n",
       "   is_closed                                                url  review_count  \\\n",
       "0      False  https://www.yelp.com/biz/brekkie-cafe-calgary?...            65   \n",
       "1      False  https://www.yelp.com/biz/notable-the-restauran...           252   \n",
       "\n",
       "                                          categories  rating  \\\n",
       "0  [{'alias': 'breakfast_brunch', 'title': 'Break...     4.0   \n",
       "1  [{'alias': 'newcanadian', 'title': 'Canadian (...     4.0   \n",
       "\n",
       "                                         coordinates transactions price  \\\n",
       "0  {'latitude': 51.0607949, 'longitude': -114.210...           []    $$   \n",
       "1  {'latitude': 51.0718271728617, 'longitude': -1...           []   $$$   \n",
       "\n",
       "                                            location        phone  \\\n",
       "0  {'address1': '125-20 Westpark Link SW', 'addre...  14034529005   \n",
       "1  {'address1': '4611 Bowness Road NW', 'address2...  14032884372   \n",
       "\n",
       "     display_phone     distance  \n",
       "0  +1 403-452-9005  4530.433090  \n",
       "1  +1 403-288-4372  5441.604297  "
      ]
     },
     "execution_count": 12,
     "metadata": {},
     "output_type": "execute_result"
    }
   ],
   "source": [
    "df.head(2)"
   ]
  },
  {
   "cell_type": "code",
   "execution_count": 13,
   "id": "374493ca-15f9-4fb6-a975-1a924cfa5d2e",
   "metadata": {},
   "outputs": [
    {
     "name": "stdout",
     "output_type": "stream",
     "text": [
      "<class 'pandas.core.frame.DataFrame'>\n",
      "RangeIndex: 20 entries, 0 to 19\n",
      "Data columns (total 16 columns):\n",
      " #   Column         Non-Null Count  Dtype  \n",
      "---  ------         --------------  -----  \n",
      " 0   id             20 non-null     object \n",
      " 1   alias          20 non-null     object \n",
      " 2   name           20 non-null     object \n",
      " 3   image_url      20 non-null     object \n",
      " 4   is_closed      20 non-null     bool   \n",
      " 5   url            20 non-null     object \n",
      " 6   review_count   20 non-null     int64  \n",
      " 7   categories     20 non-null     object \n",
      " 8   rating         20 non-null     float64\n",
      " 9   coordinates    20 non-null     object \n",
      " 10  transactions   20 non-null     object \n",
      " 11  price          16 non-null     object \n",
      " 12  location       20 non-null     object \n",
      " 13  phone          20 non-null     int64  \n",
      " 14  display_phone  20 non-null     object \n",
      " 15  distance       20 non-null     float64\n",
      "dtypes: bool(1), float64(2), int64(2), object(11)\n",
      "memory usage: 2.5+ KB\n"
     ]
    }
   ],
   "source": [
    "df.info()"
   ]
  },
  {
   "cell_type": "code",
   "execution_count": 14,
   "id": "3c424099-0798-4f4d-8813-d571345c1356",
   "metadata": {},
   "outputs": [],
   "source": [
    "# Setting up Yelp Database\n",
    "Yelp = {'Name':[],'Price':[],'Rating':[],'Category':[],'Review_count':[]}\n",
    "\n",
    "for row in df['name']: # iterating into each object\n",
    "        Yelp['Name'].append(row) # adding object to dic key\n",
    "         \n",
    "for row in df['price']:\n",
    "    Yelp['Price'].append(row)\n",
    "         \n",
    "for row in df['rating']:\n",
    "    Yelp['Rating'].append(row)\n",
    "    \n",
    "for row in df['categories']:\n",
    "    Yelp['Category'].append(row[0]['alias'])\n",
    "    \n",
    "for row in df['review_count']:\n",
    "    Yelp['Review_count'].append(row)"
   ]
  },
  {
   "cell_type": "code",
   "execution_count": 15,
   "id": "755ab5be-affd-405e-8647-eaf79b06468d",
   "metadata": {},
   "outputs": [],
   "source": [
    "#Cleaning and fixing variables\n",
    "yelp_db = pd.DataFrame(Yelp).dropna() #removing NaN"
   ]
  },
  {
   "cell_type": "code",
   "execution_count": 16,
   "id": "0710dd6d-95c6-45d1-80f9-41c610ad8fb4",
   "metadata": {},
   "outputs": [
    {
     "data": {
      "text/html": [
       "<div>\n",
       "<style scoped>\n",
       "    .dataframe tbody tr th:only-of-type {\n",
       "        vertical-align: middle;\n",
       "    }\n",
       "\n",
       "    .dataframe tbody tr th {\n",
       "        vertical-align: top;\n",
       "    }\n",
       "\n",
       "    .dataframe thead th {\n",
       "        text-align: right;\n",
       "    }\n",
       "</style>\n",
       "<table border=\"1\" class=\"dataframe\">\n",
       "  <thead>\n",
       "    <tr style=\"text-align: right;\">\n",
       "      <th></th>\n",
       "      <th>Name</th>\n",
       "      <th>Price</th>\n",
       "      <th>Rating</th>\n",
       "      <th>Category</th>\n",
       "      <th>Review_count</th>\n",
       "    </tr>\n",
       "  </thead>\n",
       "  <tbody>\n",
       "    <tr>\n",
       "      <th>0</th>\n",
       "      <td>Brekkie Cafe</td>\n",
       "      <td>$$</td>\n",
       "      <td>4.0</td>\n",
       "      <td>breakfast_brunch</td>\n",
       "      <td>65</td>\n",
       "    </tr>\n",
       "    <tr>\n",
       "      <th>1</th>\n",
       "      <td>NOtaBLE The Restaurant</td>\n",
       "      <td>$$$</td>\n",
       "      <td>4.0</td>\n",
       "      <td>newcanadian</td>\n",
       "      <td>252</td>\n",
       "    </tr>\n",
       "    <tr>\n",
       "      <th>2</th>\n",
       "      <td>Spot On Kitchen &amp; Bar</td>\n",
       "      <td>$$</td>\n",
       "      <td>4.0</td>\n",
       "      <td>comfortfood</td>\n",
       "      <td>38</td>\n",
       "    </tr>\n",
       "    <tr>\n",
       "      <th>3</th>\n",
       "      <td>The Himalayan</td>\n",
       "      <td>$$</td>\n",
       "      <td>4.5</td>\n",
       "      <td>himalayan</td>\n",
       "      <td>248</td>\n",
       "    </tr>\n",
       "    <tr>\n",
       "      <th>4</th>\n",
       "      <td>Mercato West</td>\n",
       "      <td>$$$</td>\n",
       "      <td>3.5</td>\n",
       "      <td>italian</td>\n",
       "      <td>31</td>\n",
       "    </tr>\n",
       "    <tr>\n",
       "      <th>6</th>\n",
       "      <td>Signature Palace Restaurant</td>\n",
       "      <td>$$</td>\n",
       "      <td>3.5</td>\n",
       "      <td>chinese</td>\n",
       "      <td>10</td>\n",
       "    </tr>\n",
       "    <tr>\n",
       "      <th>7</th>\n",
       "      <td>Pho Huong Viet Noodle House</td>\n",
       "      <td>$</td>\n",
       "      <td>4.0</td>\n",
       "      <td>vietnamese</td>\n",
       "      <td>83</td>\n",
       "    </tr>\n",
       "    <tr>\n",
       "      <th>8</th>\n",
       "      <td>Fergus &amp; Bix</td>\n",
       "      <td>$$</td>\n",
       "      <td>3.5</td>\n",
       "      <td>newcanadian</td>\n",
       "      <td>42</td>\n",
       "    </tr>\n",
       "    <tr>\n",
       "      <th>10</th>\n",
       "      <td>Spiros Pizza &amp; Greek Taverna</td>\n",
       "      <td>$$$</td>\n",
       "      <td>4.0</td>\n",
       "      <td>greek</td>\n",
       "      <td>53</td>\n",
       "    </tr>\n",
       "    <tr>\n",
       "      <th>11</th>\n",
       "      <td>Han Chao, Taste of Asia</td>\n",
       "      <td>$$</td>\n",
       "      <td>4.5</td>\n",
       "      <td>vietnamese</td>\n",
       "      <td>4</td>\n",
       "    </tr>\n",
       "    <tr>\n",
       "      <th>12</th>\n",
       "      <td>Famoso Neapolitan Pizzeria</td>\n",
       "      <td>$$</td>\n",
       "      <td>3.5</td>\n",
       "      <td>pizza</td>\n",
       "      <td>30</td>\n",
       "    </tr>\n",
       "    <tr>\n",
       "      <th>14</th>\n",
       "      <td>San Dong Banjeom</td>\n",
       "      <td>$$</td>\n",
       "      <td>4.5</td>\n",
       "      <td>korean</td>\n",
       "      <td>22</td>\n",
       "    </tr>\n",
       "    <tr>\n",
       "      <th>16</th>\n",
       "      <td>Sauce Italian  Market</td>\n",
       "      <td>$$</td>\n",
       "      <td>3.5</td>\n",
       "      <td>italian</td>\n",
       "      <td>49</td>\n",
       "    </tr>\n",
       "    <tr>\n",
       "      <th>17</th>\n",
       "      <td>Hot 'n' Fast Chinese Kitchen</td>\n",
       "      <td>$</td>\n",
       "      <td>4.0</td>\n",
       "      <td>chinese</td>\n",
       "      <td>8</td>\n",
       "    </tr>\n",
       "    <tr>\n",
       "      <th>18</th>\n",
       "      <td>KABUKU</td>\n",
       "      <td>$$</td>\n",
       "      <td>4.0</td>\n",
       "      <td>sushi</td>\n",
       "      <td>18</td>\n",
       "    </tr>\n",
       "    <tr>\n",
       "      <th>19</th>\n",
       "      <td>722 World Bier Haus</td>\n",
       "      <td>$$</td>\n",
       "      <td>2.5</td>\n",
       "      <td>newcanadian</td>\n",
       "      <td>45</td>\n",
       "    </tr>\n",
       "  </tbody>\n",
       "</table>\n",
       "</div>"
      ],
      "text/plain": [
       "                            Name Price  Rating          Category  Review_count\n",
       "0                   Brekkie Cafe    $$     4.0  breakfast_brunch            65\n",
       "1         NOtaBLE The Restaurant   $$$     4.0       newcanadian           252\n",
       "2          Spot On Kitchen & Bar    $$     4.0       comfortfood            38\n",
       "3                  The Himalayan    $$     4.5         himalayan           248\n",
       "4                   Mercato West   $$$     3.5           italian            31\n",
       "6    Signature Palace Restaurant    $$     3.5           chinese            10\n",
       "7    Pho Huong Viet Noodle House     $     4.0        vietnamese            83\n",
       "8                   Fergus & Bix    $$     3.5       newcanadian            42\n",
       "10  Spiros Pizza & Greek Taverna   $$$     4.0             greek            53\n",
       "11       Han Chao, Taste of Asia    $$     4.5        vietnamese             4\n",
       "12    Famoso Neapolitan Pizzeria    $$     3.5             pizza            30\n",
       "14              San Dong Banjeom    $$     4.5            korean            22\n",
       "16         Sauce Italian  Market    $$     3.5           italian            49\n",
       "17  Hot 'n' Fast Chinese Kitchen     $     4.0           chinese             8\n",
       "18                        KABUKU    $$     4.0             sushi            18\n",
       "19           722 World Bier Haus    $$     2.5       newcanadian            45"
      ]
     },
     "execution_count": 16,
     "metadata": {},
     "output_type": "execute_result"
    }
   ],
   "source": [
    "yelp_db.head(19)"
   ]
  },
  {
   "cell_type": "code",
   "execution_count": 17,
   "id": "be5a656a-00b4-4200-85f9-fce14a126198",
   "metadata": {},
   "outputs": [],
   "source": [
    "    # To find $ to dollar value I googled Yelp price rating\n",
    "    # Assmue it measures cost of 1 entree \n",
    "avg_price = yelp_db['Price'].replace('$','10').replace('$$','20').replace('$$$','30').astype(int)"
   ]
  },
  {
   "cell_type": "code",
   "execution_count": 18,
   "id": "4a1450c3-2d7e-41d2-8eaf-6a486c47a731",
   "metadata": {},
   "outputs": [
    {
     "data": {
      "text/plain": [
       "count    16.000000\n",
       "mean     20.625000\n",
       "std       5.737305\n",
       "min      10.000000\n",
       "25%      20.000000\n",
       "50%      20.000000\n",
       "75%      20.000000\n",
       "max      30.000000\n",
       "Name: Price, dtype: float64"
      ]
     },
     "execution_count": 18,
     "metadata": {},
     "output_type": "execute_result"
    }
   ],
   "source": [
    "avg_price.describe()"
   ]
  },
  {
   "cell_type": "code",
   "execution_count": 19,
   "id": "d0a51342-6771-4ab5-85fd-2369860aa606",
   "metadata": {},
   "outputs": [
    {
     "data": {
      "text/plain": [
       "1     30\n",
       "4     30\n",
       "10    30\n",
       "0     20\n",
       "2     20\n",
       "3     20\n",
       "6     20\n",
       "8     20\n",
       "11    20\n",
       "12    20\n",
       "14    20\n",
       "16    20\n",
       "18    20\n",
       "19    20\n",
       "7     10\n",
       "17    10\n",
       "Name: Price, dtype: int32"
      ]
     },
     "execution_count": 19,
     "metadata": {},
     "output_type": "execute_result"
    }
   ],
   "source": [
    "avg_price.sort_values(ascending=False)"
   ]
  },
  {
   "cell_type": "code",
   "execution_count": 194,
   "id": "3dc9d490-5ebc-46c0-bee9-0ad351ec440b",
   "metadata": {},
   "outputs": [
    {
     "data": {
      "text/html": [
       "<div>\n",
       "<style scoped>\n",
       "    .dataframe tbody tr th:only-of-type {\n",
       "        vertical-align: middle;\n",
       "    }\n",
       "\n",
       "    .dataframe tbody tr th {\n",
       "        vertical-align: top;\n",
       "    }\n",
       "\n",
       "    .dataframe thead th {\n",
       "        text-align: right;\n",
       "    }\n",
       "</style>\n",
       "<table border=\"1\" class=\"dataframe\">\n",
       "  <thead>\n",
       "    <tr style=\"text-align: right;\">\n",
       "      <th></th>\n",
       "      <th>Name</th>\n",
       "      <th>Price</th>\n",
       "      <th>Rating</th>\n",
       "      <th>Category</th>\n",
       "    </tr>\n",
       "  </thead>\n",
       "  <tbody>\n",
       "    <tr>\n",
       "      <th>0</th>\n",
       "      <td>Brekkie Cafe</td>\n",
       "      <td>$$</td>\n",
       "      <td>4.0</td>\n",
       "      <td>breakfast_brunch</td>\n",
       "    </tr>\n",
       "    <tr>\n",
       "      <th>1</th>\n",
       "      <td>NOtaBLE The Restaurant</td>\n",
       "      <td>$$$</td>\n",
       "      <td>4.0</td>\n",
       "      <td>newcanadian</td>\n",
       "    </tr>\n",
       "    <tr>\n",
       "      <th>2</th>\n",
       "      <td>Spot On Kitchen &amp; Bar</td>\n",
       "      <td>$$</td>\n",
       "      <td>4.0</td>\n",
       "      <td>comfortfood</td>\n",
       "    </tr>\n",
       "    <tr>\n",
       "      <th>3</th>\n",
       "      <td>The Himalayan</td>\n",
       "      <td>$$</td>\n",
       "      <td>4.5</td>\n",
       "      <td>himalayan</td>\n",
       "    </tr>\n",
       "    <tr>\n",
       "      <th>4</th>\n",
       "      <td>Mercato West</td>\n",
       "      <td>$$$</td>\n",
       "      <td>3.5</td>\n",
       "      <td>italian</td>\n",
       "    </tr>\n",
       "    <tr>\n",
       "      <th>5</th>\n",
       "      <td>Signature Palace Restaurant</td>\n",
       "      <td>$$</td>\n",
       "      <td>3.5</td>\n",
       "      <td>chinese</td>\n",
       "    </tr>\n",
       "    <tr>\n",
       "      <th>7</th>\n",
       "      <td>Fergus &amp; Bix</td>\n",
       "      <td>$$</td>\n",
       "      <td>3.5</td>\n",
       "      <td>newcanadian</td>\n",
       "    </tr>\n",
       "    <tr>\n",
       "      <th>8</th>\n",
       "      <td>Cassis Bistro</td>\n",
       "      <td>$$$</td>\n",
       "      <td>4.5</td>\n",
       "      <td>french</td>\n",
       "    </tr>\n",
       "    <tr>\n",
       "      <th>10</th>\n",
       "      <td>Haru Sushi</td>\n",
       "      <td>$$</td>\n",
       "      <td>4.0</td>\n",
       "      <td>sushi</td>\n",
       "    </tr>\n",
       "    <tr>\n",
       "      <th>11</th>\n",
       "      <td>Spiros Pizza &amp; Greek Taverna</td>\n",
       "      <td>$$$</td>\n",
       "      <td>4.0</td>\n",
       "      <td>greek</td>\n",
       "    </tr>\n",
       "    <tr>\n",
       "      <th>12</th>\n",
       "      <td>Han Chao, Taste of Asia</td>\n",
       "      <td>$$</td>\n",
       "      <td>4.5</td>\n",
       "      <td>vietnamese</td>\n",
       "    </tr>\n",
       "    <tr>\n",
       "      <th>13</th>\n",
       "      <td>Famoso Neapolitan Pizzeria</td>\n",
       "      <td>$$</td>\n",
       "      <td>3.5</td>\n",
       "      <td>pizza</td>\n",
       "    </tr>\n",
       "    <tr>\n",
       "      <th>16</th>\n",
       "      <td>San Dong Banjeom</td>\n",
       "      <td>$$</td>\n",
       "      <td>4.5</td>\n",
       "      <td>korean</td>\n",
       "    </tr>\n",
       "    <tr>\n",
       "      <th>17</th>\n",
       "      <td>Hot 'n' Fast Chinese Kitchen</td>\n",
       "      <td>$</td>\n",
       "      <td>4.0</td>\n",
       "      <td>chinese</td>\n",
       "    </tr>\n",
       "    <tr>\n",
       "      <th>18</th>\n",
       "      <td>Pho Huong Viet Noodle House</td>\n",
       "      <td>$</td>\n",
       "      <td>4.0</td>\n",
       "      <td>vietnamese</td>\n",
       "    </tr>\n",
       "    <tr>\n",
       "      <th>19</th>\n",
       "      <td>KABUKU</td>\n",
       "      <td>$$</td>\n",
       "      <td>4.0</td>\n",
       "      <td>sushi</td>\n",
       "    </tr>\n",
       "  </tbody>\n",
       "</table>\n",
       "</div>"
      ],
      "text/plain": [
       "                            Name Price  Rating          Category\n",
       "0                   Brekkie Cafe    $$     4.0  breakfast_brunch\n",
       "1         NOtaBLE The Restaurant   $$$     4.0       newcanadian\n",
       "2          Spot On Kitchen & Bar    $$     4.0       comfortfood\n",
       "3                  The Himalayan    $$     4.5         himalayan\n",
       "4                   Mercato West   $$$     3.5           italian\n",
       "5    Signature Palace Restaurant    $$     3.5           chinese\n",
       "7                   Fergus & Bix    $$     3.5       newcanadian\n",
       "8                  Cassis Bistro   $$$     4.5            french\n",
       "10                    Haru Sushi    $$     4.0             sushi\n",
       "11  Spiros Pizza & Greek Taverna   $$$     4.0             greek\n",
       "12       Han Chao, Taste of Asia    $$     4.5        vietnamese\n",
       "13    Famoso Neapolitan Pizzeria    $$     3.5             pizza\n",
       "16              San Dong Banjeom    $$     4.5            korean\n",
       "17  Hot 'n' Fast Chinese Kitchen     $     4.0           chinese\n",
       "18   Pho Huong Viet Noodle House     $     4.0        vietnamese\n",
       "19                        KABUKU    $$     4.0             sushi"
      ]
     },
     "execution_count": 194,
     "metadata": {},
     "output_type": "execute_result"
    }
   ],
   "source": [
    "yelp_db.head(20)\n",
    "\n",
    "#NOtaBLE is #1\n",
    "#Mercato West is #2\n",
    "#Cassis Bistro is #3\n",
    "        #IN TERMS OF PRICE"
   ]
  },
  {
   "cell_type": "code",
   "execution_count": 195,
   "id": "aa890daa-c260-4853-99c1-0298bd95c0dc",
   "metadata": {},
   "outputs": [
    {
     "data": {
      "text/plain": [
       "3     4.5\n",
       "8     4.5\n",
       "12    4.5\n",
       "16    4.5\n",
       "0     4.0\n",
       "1     4.0\n",
       "2     4.0\n",
       "10    4.0\n",
       "11    4.0\n",
       "17    4.0\n",
       "18    4.0\n",
       "19    4.0\n",
       "4     3.5\n",
       "5     3.5\n",
       "7     3.5\n",
       "13    3.5\n",
       "Name: Rating, dtype: float64"
      ]
     },
     "execution_count": 195,
     "metadata": {},
     "output_type": "execute_result"
    }
   ],
   "source": [
    "yelp_db['Rating'].sort_values(ascending=False)\n",
    "\n",
    "#The Himalayan\n",
    "#Cassis Bistro\n",
    "#Han Chao, Taste of Asia\n",
    "#San Dong Banjeom\n",
    "    #NOTE HIMALAYAN HAS SECOND MOST REVIEW COUNT AND TOP RATING\n",
    "    "
   ]
  },
  {
   "cell_type": "code",
   "execution_count": 22,
   "id": "9f9db816-775b-4635-8f71-9c0fdf0c790b",
   "metadata": {},
   "outputs": [],
   "source": [
    "#API Request Foursquare\n",
    "\n",
    "url_2 = 'https://api.foursquare.com/v2/venues/explore'\n",
    "\n",
    "params = {\n",
    "    'client_id': '12RXHP2NANFEBHXTOYGJR5EQ13D0L0UWRBKBAZR12ZO4AZKY',\n",
    "    'client_secret': 'DEWQZQ5W0IFIZQPK3MSOMRCN14C1B3CEEG14UH4LZFPWSDU2',\n",
    "    'v': '20200414',\n",
    "    'll': '51.02,-114.18',\n",
    "    'query': 'restaurant',\n",
    "    'radius': 7000,\n",
    "    'limit': 100\n",
    "}"
   ]
  },
  {
   "cell_type": "code",
   "execution_count": null,
   "id": "0c8e7e3b-fb34-4849-9059-e696dffb6181",
   "metadata": {},
   "outputs": [],
   "source": []
  },
  {
   "cell_type": "code",
   "execution_count": 23,
   "id": "bf6b3d65-5842-463e-ba33-c008f5ae7e6d",
   "metadata": {},
   "outputs": [
    {
     "data": {
      "text/plain": [
       "<Response [200]>"
      ]
     },
     "execution_count": 23,
     "metadata": {},
     "output_type": "execute_result"
    }
   ],
   "source": [
    "foursquare_data = requests.get(url_2, params=params)\n",
    "foursquare_data"
   ]
  },
  {
   "cell_type": "code",
   "execution_count": 19,
   "id": "34fdf05f-b94d-4f5e-b1a1-2e71a6981032",
   "metadata": {},
   "outputs": [
    {
     "data": {
      "application/json": {
       "meta": {
        "code": 200,
        "requestId": "6258d84558c232163ce1e287"
       },
       "response": {
        "groups": [
         {
          "items": [
           {
            "reasons": {
             "count": 0,
             "items": [
              {
               "reasonName": "globalInteractionReason",
               "summary": "This spot is popular",
               "type": "general"
              }
             ]
            },
            "referralId": "e-0-4b64c1a0f964a5209fcd2ae3-0",
            "venue": {
             "categories": [
              {
               "icon": {
                "prefix": "https://ss3.4sqi.net/img/categories_v2/food/bakery_",
                "suffix": ".png"
               },
               "id": "4bf58dd8d48988d16a941735",
               "name": "Bakery",
               "pluralName": "Bakeries",
               "primary": true,
               "shortName": "Bakery"
              }
             ],
             "id": "4b64c1a0f964a5209fcd2ae3",
             "location": {
              "address": "20-3919 Richmond Rd SW",
              "cc": "CA",
              "city": "Calgary",
              "country": "Canada",
              "crossStreet": "37th Street",
              "distance": 2560,
              "formattedAddress": [
               "20-3919 Richmond Rd SW (37th Street)",
               "Calgary AB T3E 4P2",
               "Canada"
              ],
              "labeledLatLngs": [
               {
                "label": "display",
                "lat": 51.021592,
                "lng": -114.143528
               }
              ],
              "lat": 51.021592,
              "lng": -114.143528,
              "postalCode": "T3E 4P2",
              "state": "AB"
             },
             "name": "Glamorgan Bakery Ltd",
             "photos": {
              "count": 0,
              "groups": []
             }
            }
           },
           {
            "reasons": {
             "count": 0,
             "items": [
              {
               "reasonName": "globalInteractionReason",
               "summary": "This spot is popular",
               "type": "general"
              }
             ]
            },
            "referralId": "e-0-4b6b7991f964a520250b2ce3-1",
            "venue": {
             "categories": [
              {
               "icon": {
                "prefix": "https://ss3.4sqi.net/img/categories_v2/food/japanese_",
                "suffix": ".png"
               },
               "id": "4bf58dd8d48988d111941735",
               "name": "Japanese Restaurant",
               "pluralName": "Japanese Restaurants",
               "primary": true,
               "shortName": "Japanese"
              }
             ],
             "id": "4b6b7991f964a520250b2ce3",
             "location": {
              "address": "420 1851 Sirocco Drive SW",
              "cc": "CA",
              "city": "Calgary",
              "country": "Canada",
              "crossStreet": "17th Ave SW",
              "distance": 2078,
              "formattedAddress": [
               "420 1851 Sirocco Drive SW (17th Ave SW)",
               "Calgary AB T3H 4RS",
               "Canada"
              ],
              "labeledLatLngs": [
               {
                "label": "display",
                "lat": 51.03694749960818,
                "lng": -114.16753221181085
               }
              ],
              "lat": 51.03694749960818,
              "lng": -114.16753221181085,
              "postalCode": "T3H 4RS",
              "state": "AB"
             },
             "name": "Misato Sushi and Grill",
             "photos": {
              "count": 0,
              "groups": []
             }
            }
           },
           {
            "reasons": {
             "count": 0,
             "items": [
              {
               "reasonName": "globalInteractionReason",
               "summary": "This spot is popular",
               "type": "general"
              }
             ]
            },
            "referralId": "e-0-4b06e842f964a520b4f222e3-2",
            "venue": {
             "categories": [
              {
               "icon": {
                "prefix": "https://ss3.4sqi.net/img/categories_v2/food/newamerican_",
                "suffix": ".png"
               },
               "id": "4bf58dd8d48988d157941735",
               "name": "New American Restaurant",
               "pluralName": "New American Restaurants",
               "primary": true,
               "shortName": "New American"
              }
             ],
             "id": "4b06e842f964a520b4f222e3",
             "location": {
              "address": "140 Stewart Green SW",
              "cc": "CA",
              "city": "Calgary",
              "country": "Canada",
              "distance": 970,
              "formattedAddress": [
               "140 Stewart Green SW",
               "Calgary AB T3H 3C8",
               "Canada"
              ],
              "labeledLatLngs": [
               {
                "label": "display",
                "lat": 51.01659776221111,
                "lng": -114.16724341139442
               }
              ],
              "lat": 51.01659776221111,
              "lng": -114.16724341139442,
              "postalCode": "T3H 3C8",
              "state": "AB"
             },
             "name": "Earls Restaurant",
             "photos": {
              "count": 0,
              "groups": []
             }
            }
           },
           {
            "reasons": {
             "count": 0,
             "items": [
              {
               "reasonName": "globalInteractionReason",
               "summary": "This spot is popular",
               "type": "general"
              }
             ]
            },
            "referralId": "e-0-4d310ebac75a6ea804ba00ae-3",
            "venue": {
             "categories": [
              {
               "icon": {
                "prefix": "https://ss3.4sqi.net/img/categories_v2/food/asian_",
                "suffix": ".png"
               },
               "id": "4bf58dd8d48988d142941735",
               "name": "Asian Restaurant",
               "pluralName": "Asian Restaurants",
               "primary": true,
               "shortName": "Asian"
              }
             ],
             "id": "4d310ebac75a6ea804ba00ae",
             "location": {
              "address": "3218 17th Ave SW",
              "cc": "CA",
              "city": "Calgary",
              "country": "Canada",
              "distance": 3814,
              "formattedAddress": [
               "3218 17th Ave SW",
               "Calgary AB",
               "Canada"
              ],
              "labeledLatLngs": [
               {
                "label": "display",
                "lat": 51.03797362590314,
                "lng": -114.13361894624079
               }
              ],
              "lat": 51.03797362590314,
              "lng": -114.13361894624079,
              "state": "AB"
             },
             "name": "The Himalayan Nepalese Cuisine",
             "photos": {
              "count": 0,
              "groups": []
             }
            }
           },
           {
            "reasons": {
             "count": 0,
             "items": [
              {
               "reasonName": "globalInteractionReason",
               "summary": "This spot is popular",
               "type": "general"
              }
             ]
            },
            "referralId": "e-0-5356a1a2498eda67be4a9cfb-4",
            "venue": {
             "categories": [
              {
               "icon": {
                "prefix": "https://ss3.4sqi.net/img/categories_v2/food/pizza_",
                "suffix": ".png"
               },
               "id": "4bf58dd8d48988d1ca941735",
               "name": "Pizza Place",
               "pluralName": "Pizza Places",
               "primary": true,
               "shortName": "Pizza"
              }
             ],
             "id": "5356a1a2498eda67be4a9cfb",
             "location": {
              "address": "125 Stewart Green SW",
              "cc": "CA",
              "city": "Calgary",
              "country": "Canada",
              "crossStreet": "Westhills Towne Centre",
              "distance": 861,
              "formattedAddress": [
               "125 Stewart Green SW (Westhills Towne Centre)",
               "Calgary AB T3H 3C8",
               "Canada"
              ],
              "labeledLatLngs": [
               {
                "label": "display",
                "lat": 51.01682676385354,
                "lng": -114.16878419544861
               }
              ],
              "lat": 51.01682676385354,
              "lng": -114.16878419544861,
              "postalCode": "T3H 3C8",
              "state": "AB"
             },
             "name": "Famoso Neapolitan Pizzeria",
             "photos": {
              "count": 0,
              "groups": []
             }
            }
           },
           {
            "reasons": {
             "count": 0,
             "items": [
              {
               "reasonName": "globalInteractionReason",
               "summary": "This spot is popular",
               "type": "general"
              }
             ]
            },
            "referralId": "e-0-4b786454f964a520d5ca2ee3-5",
            "venue": {
             "categories": [
              {
               "icon": {
                "prefix": "https://ss3.4sqi.net/img/categories_v2/food/vietnamese_",
                "suffix": ".png"
               },
               "id": "4bf58dd8d48988d14a941735",
               "name": "Vietnamese Restaurant",
               "pluralName": "Vietnamese Restaurants",
               "primary": true,
               "shortName": "Vietnamese"
              }
             ],
             "id": "4b786454f964a520d5ca2ee3",
             "location": {
              "address": "3855 17 Ave SW",
              "cc": "CA",
              "city": "Calgary",
              "country": "Canada",
              "distance": 3235,
              "formattedAddress": [
               "3855 17 Ave SW",
               "Calgary AB",
               "Canada"
              ],
              "labeledLatLngs": [
               {
                "label": "display",
                "lat": 51.0373278037084,
                "lng": -114.14288943177912
               }
              ],
              "lat": 51.0373278037084,
              "lng": -114.14288943177912,
              "state": "AB"
             },
             "name": "Pho Huong Viet",
             "photos": {
              "count": 0,
              "groups": []
             }
            }
           },
           {
            "reasons": {
             "count": 0,
             "items": [
              {
               "reasonName": "globalInteractionReason",
               "summary": "This spot is popular",
               "type": "general"
              }
             ]
            },
            "referralId": "e-0-4b60e97af964a52009012ae3-6",
            "venue": {
             "categories": [
              {
               "icon": {
                "prefix": "https://ss3.4sqi.net/img/categories_v2/food/korean_",
                "suffix": ".png"
               },
               "id": "4bf58dd8d48988d113941735",
               "name": "Korean Restaurant",
               "pluralName": "Korean Restaurants",
               "primary": true,
               "shortName": "Korean"
              }
             ],
             "id": "4b60e97af964a52009012ae3",
             "location": {
              "cc": "CA",
              "city": "Calgary",
              "country": "Canada",
              "distance": 3551,
              "formattedAddress": [
               "Calgary AB",
               "Canada"
              ],
              "labeledLatLngs": [
               {
                "label": "display",
                "lat": 51.03759471592792,
                "lng": -114.13768916376135
               }
              ],
              "lat": 51.03759471592792,
              "lng": -114.13768916376135,
              "state": "AB"
             },
             "name": "Bow Bulgogi Korean and Vietnamese",
             "photos": {
              "count": 0,
              "groups": []
             }
            }
           },
           {
            "reasons": {
             "count": 0,
             "items": [
              {
               "reasonName": "globalInteractionReason",
               "summary": "This spot is popular",
               "type": "general"
              }
             ]
            },
            "referralId": "e-0-4d28db8cb818a35dcc53998a-7",
            "venue": {
             "categories": [
              {
               "icon": {
                "prefix": "https://ss3.4sqi.net/img/categories_v2/food/deli_",
                "suffix": ".png"
               },
               "id": "4bf58dd8d48988d146941735",
               "name": "Deli / Bodega",
               "pluralName": "Delis / Bodegas",
               "primary": true,
               "shortName": "Deli / Bodega"
              }
             ],
             "id": "4d28db8cb818a35dcc53998a",
             "location": {
              "address": "1912 37 st sw",
              "cc": "CA",
              "country": "Canada",
              "distance": 3344,
              "formattedAddress": [
               "1912 37 st sw",
               "Canada"
              ],
              "labeledLatLngs": [
               {
                "label": "display",
                "lat": 51.037277,
                "lng": -114.140913
               }
              ],
              "lat": 51.037277,
              "lng": -114.140913
             },
             "name": "Heritage Deli and Bakery",
             "photos": {
              "count": 0,
              "groups": []
             }
            }
           },
           {
            "reasons": {
             "count": 0,
             "items": [
              {
               "reasonName": "globalInteractionReason",
               "summary": "This spot is popular",
               "type": "general"
              }
             ]
            },
            "referralId": "e-0-4b906efff964a520258a33e3-8",
            "venue": {
             "categories": [
              {
               "icon": {
                "prefix": "https://ss3.4sqi.net/img/categories_v2/food/falafel_",
                "suffix": ".png"
               },
               "id": "4bf58dd8d48988d10b941735",
               "name": "Falafel Restaurant",
               "pluralName": "Falafel Restaurants",
               "primary": true,
               "shortName": "Falafel"
              }
             ],
             "id": "4b906efff964a520258a33e3",
             "location": {
              "address": "3515 - 17 Ave. SW",
              "cc": "CA",
              "city": "Calgary",
              "country": "Canada",
              "distance": 3534,
              "formattedAddress": [
               "3515 - 17 Ave. SW",
               "Calgary AB T3E 0B6",
               "Canada"
              ],
              "labeledLatLngs": [
               {
                "label": "display",
                "lat": 51.037656642954374,
                "lng": -114.13804432464256
               }
              ],
              "lat": 51.037656642954374,
              "lng": -114.13804432464256,
              "postalCode": "T3E 0B6",
              "state": "AB"
             },
             "name": "Little Lebanon Pita Pies & Donair",
             "photos": {
              "count": 0,
              "groups": []
             }
            }
           },
           {
            "reasons": {
             "count": 0,
             "items": [
              {
               "reasonName": "globalInteractionReason",
               "summary": "This spot is popular",
               "type": "general"
              }
             ]
            },
            "referralId": "e-0-4dd957dd45ddced820b59acc-9",
            "venue": {
             "categories": [
              {
               "icon": {
                "prefix": "https://ss3.4sqi.net/img/categories_v2/food/french_",
                "suffix": ".png"
               },
               "id": "4bf58dd8d48988d10c941735",
               "name": "French Restaurant",
               "pluralName": "French Restaurants",
               "primary": true,
               "shortName": "French"
              }
             ],
             "id": "4dd957dd45ddced820b59acc",
             "location": {
              "address": "#105, 2505 17th Ave SW",
              "cc": "CA",
              "city": "Calgary",
              "country": "Canada",
              "distance": 4751,
              "formattedAddress": [
               "#105, 2505 17th Ave SW",
               "Calgary AB T5E 7V3",
               "Canada"
              ],
              "labeledLatLngs": [
               {
                "label": "display",
                "lat": 51.03744548466557,
                "lng": -114.11806113676397
               }
              ],
              "lat": 51.03744548466557,
              "lng": -114.11806113676397,
              "postalCode": "T5E 7V3",
              "state": "AB"
             },
             "name": "Cassis Bistro",
             "photos": {
              "count": 0,
              "groups": []
             }
            }
           },
           {
            "reasons": {
             "count": 0,
             "items": [
              {
               "reasonName": "globalInteractionReason",
               "summary": "This spot is popular",
               "type": "general"
              }
             ]
            },
            "referralId": "e-0-4b40c2f2f964a520d2ba25e3-10",
            "venue": {
             "categories": [
              {
               "icon": {
                "prefix": "https://ss3.4sqi.net/img/categories_v2/food/breakfast_",
                "suffix": ".png"
               },
               "id": "4bf58dd8d48988d143941735",
               "name": "Breakfast Spot",
               "pluralName": "Breakfast Spots",
               "primary": true,
               "shortName": "Breakfast"
              }
             ],
             "id": "4b40c2f2f964a520d2ba25e3",
             "location": {
              "address": "2439 54 Ave SW",
              "cc": "CA",
              "city": "Calgary",
              "country": "Canada",
              "crossStreet": "at Crowchild Trail",
              "distance": 4705,
              "formattedAddress": [
               "2439 54 Ave SW (at Crowchild Trail)",
               "Calgary AB T3E 1M4",
               "Canada"
              ],
              "labeledLatLngs": [
               {
                "label": "display",
                "lat": 51.005003,
                "lng": -114.117185
               }
              ],
              "lat": 51.005003,
              "lng": -114.117185,
              "postalCode": "T3E 1M4",
              "state": "AB"
             },
             "name": "Pfanntastic Pannenkoek Haus",
             "photos": {
              "count": 0,
              "groups": []
             }
            }
           },
           {
            "reasons": {
             "count": 0,
             "items": [
              {
               "reasonName": "globalInteractionReason",
               "summary": "This spot is popular",
               "type": "general"
              }
             ]
            },
            "referralId": "e-0-4b47d21ef964a520434026e3-11",
            "venue": {
             "categories": [
              {
               "icon": {
                "prefix": "https://ss3.4sqi.net/img/categories_v2/food/japanese_",
                "suffix": ".png"
               },
               "id": "4bf58dd8d48988d111941735",
               "name": "Japanese Restaurant",
               "pluralName": "Japanese Restaurants",
               "primary": true,
               "shortName": "Japanese"
              }
             ],
             "id": "4b47d21ef964a520434026e3",
             "location": {
              "address": "141B Stewart Green SW",
              "cc": "CA",
              "city": "Calgary",
              "country": "Canada",
              "crossStreet": "at Richmond Rd SW",
              "distance": 834,
              "formattedAddress": [
               "141B Stewart Green SW (at Richmond Rd SW)",
               "Calgary AB T3H 3C8",
               "Canada"
              ],
              "labeledLatLngs": [
               {
                "label": "display",
                "lat": 51.01713097486408,
                "lng": -114.16898939829596
               }
              ],
              "lat": 51.01713097486408,
              "lng": -114.16898939829596,
              "postalCode": "T3H 3C8",
              "state": "AB"
             },
             "name": "Edo Japan",
             "photos": {
              "count": 0,
              "groups": []
             }
            }
           },
           {
            "reasons": {
             "count": 0,
             "items": [
              {
               "reasonName": "globalInteractionReason",
               "summary": "This spot is popular",
               "type": "general"
              }
             ]
            },
            "referralId": "e-0-5372683911d2759d4d80cef1-12",
            "venue": {
             "categories": [
              {
               "icon": {
                "prefix": "https://ss3.4sqi.net/img/categories_v2/food/pizza_",
                "suffix": ".png"
               },
               "id": "4bf58dd8d48988d1ca941735",
               "name": "Pizza Place",
               "pluralName": "Pizza Places",
               "primary": true,
               "shortName": "Pizza"
              }
             ],
             "id": "5372683911d2759d4d80cef1",
             "location": {
              "address": "West Hills",
              "cc": "CA",
              "city": "Calgary",
              "country": "Canada",
              "distance": 853,
              "formattedAddress": [
               "West Hills",
               "Calgary AB",
               "Canada"
              ],
              "labeledLatLngs": [
               {
                "label": "display",
                "lat": 51.016808,
                "lng": -114.168913
               }
              ],
              "lat": 51.016808,
              "lng": -114.168913,
              "state": "AB"
             },
             "name": "Famoso Neapolitan Pizza",
             "photos": {
              "count": 0,
              "groups": []
             }
            }
           },
           {
            "reasons": {
             "count": 0,
             "items": [
              {
               "reasonName": "globalInteractionReason",
               "summary": "This spot is popular",
               "type": "general"
              }
             ]
            },
            "referralId": "e-0-5393e8ae498e14bd1c94c3df-13",
            "venue": {
             "categories": [
              {
               "icon": {
                "prefix": "https://ss3.4sqi.net/img/categories_v2/food/default_",
                "suffix": ".png"
               },
               "id": "4bf58dd8d48988d1c4941735",
               "name": "Restaurant",
               "pluralName": "Restaurants",
               "primary": true,
               "shortName": "Restaurant"
              }
             ],
             "id": "5393e8ae498e14bd1c94c3df",
             "location": {
              "address": "#100–350 Aspen Glen Landing SW",
              "cc": "CA",
              "city": "Calgary",
              "country": "Canada",
              "distance": 2992,
              "formattedAddress": [
               "#100–350 Aspen Glen Landing SW",
               "Calgary AB",
               "Canada"
              ],
              "labeledLatLngs": [
               {
                "label": "display",
                "lat": 51.03963609884468,
                "lng": -114.20919286144175
               }
              ],
              "lat": 51.03963609884468,
              "lng": -114.20919286144175,
              "state": "AB"
             },
             "name": "Diner Deluxe Aspen",
             "photos": {
              "count": 0,
              "groups": []
             }
            }
           },
           {
            "reasons": {
             "count": 0,
             "items": [
              {
               "reasonName": "globalInteractionReason",
               "summary": "This spot is popular",
               "type": "general"
              }
             ]
            },
            "referralId": "e-0-4c9d2e808afca093e053f415-14",
            "venue": {
             "categories": [
              {
               "icon": {
                "prefix": "https://ss3.4sqi.net/img/categories_v2/food/pizza_",
                "suffix": ".png"
               },
               "id": "4bf58dd8d48988d1ca941735",
               "name": "Pizza Place",
               "pluralName": "Pizza Places",
               "primary": true,
               "shortName": "Pizza"
              }
             ],
             "id": "4c9d2e808afca093e053f415",
             "location": {
              "address": "3406 3 Ave NW",
              "cc": "CA",
              "city": "Calgary",
              "country": "Canada",
              "distance": 5217,
              "formattedAddress": [
               "3406 3 Ave NW",
               "Calgary AB T2N 0M2",
               "Canada"
              ],
              "labeledLatLngs": [
               {
                "label": "display",
                "lat": 51.058075,
                "lng": -114.13654
               }
              ],
              "lat": 51.058075,
              "lng": -114.13654,
              "postalCode": "T2N 0M2",
              "state": "AB"
             },
             "name": "Avatara Pizza",
             "photos": {
              "count": 0,
              "groups": []
             }
            }
           },
           {
            "reasons": {
             "count": 0,
             "items": [
              {
               "reasonName": "globalInteractionReason",
               "summary": "This spot is popular",
               "type": "general"
              }
             ]
            },
            "referralId": "e-0-4b5a5c4df964a520f9bf28e3-15",
            "venue": {
             "categories": [
              {
               "icon": {
                "prefix": "https://ss3.4sqi.net/img/categories_v2/food/greek_",
                "suffix": ".png"
               },
               "id": "4bf58dd8d48988d10e941735",
               "name": "Greek Restaurant",
               "pluralName": "Greek Restaurants",
               "primary": true,
               "shortName": "Greek"
              }
             ],
             "id": "4b5a5c4df964a520f9bf28e3",
             "location": {
              "address": "1902 33rd St SW",
              "cc": "CA",
              "city": "Calgary",
              "country": "Canada",
              "crossStreet": "on 17th Ave",
              "distance": 3699,
              "formattedAddress": [
               "1902 33rd St SW (on 17th Ave)",
               "Calgary AB",
               "Canada"
              ],
              "labeledLatLngs": [
               {
                "label": "display",
                "lat": 51.037751523562505,
                "lng": -114.13532726574437
               }
              ],
              "lat": 51.037751523562505,
              "lng": -114.13532726574437,
              "state": "AB"
             },
             "name": "Spiros Pizza",
             "photos": {
              "count": 0,
              "groups": []
             }
            }
           },
           {
            "reasons": {
             "count": 0,
             "items": [
              {
               "reasonName": "globalInteractionReason",
               "summary": "This spot is popular",
               "type": "general"
              }
             ]
            },
            "referralId": "e-0-4b0586e7f964a520257422e3-16",
            "venue": {
             "categories": [
              {
               "icon": {
                "prefix": "https://ss3.4sqi.net/img/categories_v2/food/deli_",
                "suffix": ".png"
               },
               "id": "4bf58dd8d48988d1c5941735",
               "name": "Sandwich Place",
               "pluralName": "Sandwich Places",
               "primary": true,
               "shortName": "Sandwiches"
              }
             ],
             "id": "4b0586e7f964a520257422e3",
             "location": {
              "address": "8 Parkdale Cres. NW",
              "cc": "CA",
              "city": "Calgary",
              "country": "Canada",
              "crossStreet": "3 Ave.",
              "distance": 5255,
              "formattedAddress": [
               "8 Parkdale Cres. NW (3 Ave.)",
               "Calgary AB T2N 3T8",
               "Canada"
              ],
              "labeledLatLngs": [
               {
                "label": "display",
                "lat": 51.058086,
                "lng": -114.13564
               }
              ],
              "lat": 51.058086,
              "lng": -114.13564,
              "postalCode": "T2N 3T8",
              "state": "AB"
             },
             "name": "Lazy Loaf and Kettle",
             "photos": {
              "count": 0,
              "groups": []
             }
            }
           },
           {
            "reasons": {
             "count": 0,
             "items": [
              {
               "reasonName": "globalInteractionReason",
               "summary": "This spot is popular",
               "type": "general"
              }
             ]
            },
            "referralId": "e-0-4be9e9516295c9b671d78508-17",
            "venue": {
             "categories": [
              {
               "icon": {
                "prefix": "https://ss3.4sqi.net/img/categories_v2/food/cafe_",
                "suffix": ".png"
               },
               "id": "4bf58dd8d48988d16d941735",
               "name": "Café",
               "pluralName": "Cafés",
               "primary": true,
               "shortName": "Café"
              }
             ],
             "id": "4be9e9516295c9b671d78508",
             "location": {
              "address": "Memorial Dr.",
              "cc": "CA",
              "city": "Calgary",
              "country": "Canada",
              "crossStreet": "Shaganappi Tr.",
              "distance": 5316,
              "formattedAddress": [
               "Memorial Dr. (Shaganappi Tr.)",
               "Calgary AB T3B 0L9",
               "Canada"
              ],
              "labeledLatLngs": [
               {
                "label": "display",
                "lat": 51.0646185711312,
                "lng": -114.15292506082922
               }
              ],
              "lat": 51.0646185711312,
              "lng": -114.15292506082922,
              "postalCode": "T3B 0L9",
              "state": "AB"
             },
             "name": "Angels Cafe",
             "photos": {
              "count": 0,
              "groups": []
             }
            }
           },
           {
            "reasons": {
             "count": 0,
             "items": [
              {
               "reasonName": "globalInteractionReason",
               "summary": "This spot is popular",
               "type": "general"
              }
             ]
            },
            "referralId": "e-0-52c1c8e2498e4055b8acca0d-18",
            "venue": {
             "categories": [
              {
               "icon": {
                "prefix": "https://ss3.4sqi.net/img/categories_v2/food/burger_",
                "suffix": ".png"
               },
               "id": "4bf58dd8d48988d16c941735",
               "name": "Burger Joint",
               "pluralName": "Burger Joints",
               "primary": true,
               "shortName": "Burgers"
              }
             ],
             "id": "52c1c8e2498e4055b8acca0d",
             "location": {
              "address": "1200 37 Str. SW",
              "cc": "CA",
              "city": "Calgary",
              "country": "Canada",
              "distance": 3686,
              "formattedAddress": [
               "1200 37 Str. SW",
               "Calgary AB",
               "Canada"
              ],
              "labeledLatLngs": [
               {
                "label": "display",
                "lat": 51.04150524148338,
                "lng": -114.13994783812501
               }
              ],
              "lat": 51.04150524148338,
              "lng": -114.13994783812501,
              "state": "AB"
             },
             "name": "Dragon's Lair Burger Co.",
             "photos": {
              "count": 0,
              "groups": []
             }
            }
           },
           {
            "reasons": {
             "count": 0,
             "items": [
              {
               "reasonName": "globalInteractionReason",
               "summary": "This spot is popular",
               "type": "general"
              }
             ]
            },
            "referralId": "e-0-4b527abdf964a5203b7f27e3-19",
            "venue": {
             "categories": [
              {
               "icon": {
                "prefix": "https://ss3.4sqi.net/img/categories_v2/food/japanese_",
                "suffix": ".png"
               },
               "id": "4bf58dd8d48988d111941735",
               "name": "Japanese Restaurant",
               "pluralName": "Japanese Restaurants",
               "primary": true,
               "shortName": "Japanese"
              }
             ],
             "id": "4b527abdf964a5203b7f27e3",
             "location": {
              "address": "1002 37 street SW",
              "cc": "CA",
              "city": "Calgary",
              "country": "Canada",
              "crossStreet": "Bow Trail SW",
              "distance": 3879,
              "formattedAddress": [
               "1002 37 street SW (Bow Trail SW)",
               "Calgary AB",
               "Canada"
              ],
              "labeledLatLngs": [
               {
                "label": "display",
                "lat": 51.044677428601375,
                "lng": -114.14086929235334
               }
              ],
              "lat": 51.044677428601375,
              "lng": -114.14086929235334,
              "state": "AB"
             },
             "name": "Sushi Ichiban",
             "photos": {
              "count": 0,
              "groups": []
             }
            }
           },
           {
            "reasons": {
             "count": 0,
             "items": [
              {
               "reasonName": "globalInteractionReason",
               "summary": "This spot is popular",
               "type": "general"
              }
             ]
            },
            "referralId": "e-0-54262514498ec1f340a299d1-20",
            "venue": {
             "categories": [
              {
               "icon": {
                "prefix": "https://ss3.4sqi.net/img/categories_v2/food/gastropub_",
                "suffix": ".png"
               },
               "id": "4bf58dd8d48988d155941735",
               "name": "Gastropub",
               "pluralName": "Gastropubs",
               "primary": true,
               "shortName": "Gastropub"
              }
             ],
             "id": "54262514498ec1f340a299d1",
             "location": {
              "cc": "CA",
              "city": "Calgary",
              "country": "Canada",
              "distance": 4882,
              "formattedAddress": [
               "Calgary AB",
               "Canada"
              ],
              "labeledLatLngs": [
               {
                "label": "display",
                "lat": 51.02419023726517,
                "lng": -114.1105863627715
               }
              ],
              "lat": 51.02419023726517,
              "lng": -114.1105863627715,
              "state": "AB"
             },
             "name": "Merchants",
             "photos": {
              "count": 0,
              "groups": []
             }
            }
           },
           {
            "reasons": {
             "count": 0,
             "items": [
              {
               "reasonName": "globalInteractionReason",
               "summary": "This spot is popular",
               "type": "general"
              }
             ]
            },
            "referralId": "e-0-54c2aedc498e8105a72b3bd2-21",
            "venue": {
             "categories": [
              {
               "icon": {
                "prefix": "https://ss3.4sqi.net/img/categories_v2/food/default_",
                "suffix": ".png"
               },
               "id": "4bf58dd8d48988d1c4941735",
               "name": "Restaurant",
               "pluralName": "Restaurants",
               "primary": true,
               "shortName": "Restaurant"
              }
             ],
             "id": "54c2aedc498e8105a72b3bd2",
             "location": {
              "address": "2 Richard Way SW",
              "cc": "CA",
              "city": "Calgary",
              "country": "Canada",
              "distance": 3822,
              "formattedAddress": [
               "2 Richard Way SW",
               "Calgary AB T3E 7M9",
               "Canada"
              ],
              "labeledLatLngs": [
               {
                "label": "display",
                "lat": 51.00606968457791,
                "lng": -114.13012003873816
               }
              ],
              "lat": 51.00606968457791,
              "lng": -114.13012003873816,
              "postalCode": "T3E 7M9",
              "state": "AB"
             },
             "name": "Spot On Kitchen & Bar",
             "photos": {
              "count": 0,
              "groups": []
             },
             "venuePage": {
              "id": "114851641"
             }
            }
           },
           {
            "reasons": {
             "count": 0,
             "items": [
              {
               "reasonName": "globalInteractionReason",
               "summary": "This spot is popular",
               "type": "general"
              }
             ]
            },
            "referralId": "e-0-4b735e50f964a5200dab2de3-22",
            "venue": {
             "categories": [
              {
               "icon": {
                "prefix": "https://ss3.4sqi.net/img/categories_v2/food/vietnamese_",
                "suffix": ".png"
               },
               "id": "4bf58dd8d48988d14a941735",
               "name": "Vietnamese Restaurant",
               "pluralName": "Vietnamese Restaurants",
               "primary": true,
               "shortName": "Vietnamese"
              }
             ],
             "id": "4b735e50f964a5200dab2de3",
             "location": {
              "address": "2111, 33rd Ave SW",
              "cc": "CA",
              "city": "Calgary",
              "country": "Canada",
              "distance": 4909,
              "formattedAddress": [
               "2111, 33rd Ave SW",
               "Calgary AB",
               "Canada"
              ],
              "labeledLatLngs": [
               {
                "label": "display",
                "lat": 51.023869751767954,
                "lng": -114.1101550631155
               }
              ],
              "lat": 51.023869751767954,
              "lng": -114.1101550631155,
              "state": "AB"
             },
             "name": "nho saigon",
             "photos": {
              "count": 0,
              "groups": []
             }
            }
           },
           {
            "reasons": {
             "count": 0,
             "items": [
              {
               "reasonName": "globalInteractionReason",
               "summary": "This spot is popular",
               "type": "general"
              }
             ]
            },
            "referralId": "e-0-4cc76a8a94e1a0931f99918b-23",
            "venue": {
             "categories": [
              {
               "icon": {
                "prefix": "https://ss3.4sqi.net/img/categories_v2/food/vietnamese_",
                "suffix": ".png"
               },
               "id": "4bf58dd8d48988d14a941735",
               "name": "Vietnamese Restaurant",
               "pluralName": "Vietnamese Restaurants",
               "primary": true,
               "shortName": "Vietnamese"
              }
             ],
             "id": "4cc76a8a94e1a0931f99918b",
             "location": {
              "address": "144, 30 Springborough Blvd SW",
              "cc": "CA",
              "city": "Calgary",
              "country": "Canada",
              "distance": 1810,
              "formattedAddress": [
               "144, 30 Springborough Blvd SW",
               "Calgary AB T3H",
               "Canada"
              ],
              "labeledLatLngs": [
               {
                "label": "display",
                "lat": 51.03448581249168,
                "lng": -114.19175221591492
               }
              ],
              "lat": 51.03448581249168,
              "lng": -114.19175221591492,
              "postalCode": "T3H",
              "state": "AB"
             },
             "name": "Viet Hai",
             "photos": {
              "count": 0,
              "groups": []
             }
            }
           },
           {
            "reasons": {
             "count": 0,
             "items": [
              {
               "reasonName": "globalInteractionReason",
               "summary": "This spot is popular",
               "type": "general"
              }
             ]
            },
            "referralId": "e-0-4b0586ebf964a520697522e3-24",
            "venue": {
             "categories": [
              {
               "icon": {
                "prefix": "https://ss3.4sqi.net/img/categories_v2/food/diner_",
                "suffix": ".png"
               },
               "id": "4bf58dd8d48988d147941735",
               "name": "Diner",
               "pluralName": "Diners",
               "primary": true,
               "shortName": "Diner"
              }
             ],
             "id": "4b0586ebf964a520697522e3",
             "location": {
              "address": "1411 11 St. Southwest",
              "cc": "CA",
              "city": "Calgary",
              "country": "Canada",
              "crossStreet": "at 14 Ave.",
              "distance": 6732,
              "formattedAddress": [
               "1411 11 St. Southwest (at 14 Ave.)",
               "Calgary AB T2R 1G7",
               "Canada"
              ],
              "labeledLatLngs": [
               {
                "label": "display",
                "lat": 51.03972982879154,
                "lng": -114.08910353246397
               }
              ],
              "lat": 51.03972982879154,
              "lng": -114.08910353246397,
              "postalCode": "T2R 1G7",
              "state": "AB"
             },
             "name": "Galaxie Diner",
             "photos": {
              "count": 0,
              "groups": []
             }
            }
           },
           {
            "reasons": {
             "count": 0,
             "items": [
              {
               "reasonName": "globalInteractionReason",
               "summary": "This spot is popular",
               "type": "general"
              }
             ]
            },
            "referralId": "e-0-4c62047ceb82d13a969604d6-25",
            "venue": {
             "categories": [
              {
               "icon": {
                "prefix": "https://ss3.4sqi.net/img/categories_v2/food/default_",
                "suffix": ".png"
               },
               "id": "4bf58dd8d48988d1c4941735",
               "name": "Restaurant",
               "pluralName": "Restaurants",
               "primary": true,
               "shortName": "Restaurant"
              }
             ],
             "id": "4c62047ceb82d13a969604d6",
             "location": {
              "address": "4611 Bowness Road NW",
              "cc": "CA",
              "city": "Calgary",
              "country": "Canada",
              "distance": 5948,
              "formattedAddress": [
               "4611 Bowness Road NW",
               "Calgary AB",
               "Canada"
              ],
              "labeledLatLngs": [
               {
                "label": "display",
                "lat": 51.07187902350273,
                "lng": -114.15965425513123
               }
              ],
              "lat": 51.07187902350273,
              "lng": -114.15965425513123,
              "state": "AB"
             },
             "name": "NOtaBLE",
             "photos": {
              "count": 0,
              "groups": []
             }
            }
           },
           {
            "reasons": {
             "count": 0,
             "items": [
              {
               "reasonName": "globalInteractionReason",
               "summary": "This spot is popular",
               "type": "general"
              }
             ]
            },
            "referralId": "e-0-4ccc82e2ee23a14359a71fa8-26",
            "venue": {
             "categories": [
              {
               "icon": {
                "prefix": "https://ss3.4sqi.net/img/categories_v2/food/deli_",
                "suffix": ".png"
               },
               "id": "4bf58dd8d48988d146941735",
               "name": "Deli / Bodega",
               "pluralName": "Delis / Bodegas",
               "primary": true,
               "shortName": "Deli / Bodega"
              }
             ],
             "id": "4ccc82e2ee23a14359a71fa8",
             "location": {
              "address": "1411 11 St SW",
              "cc": "CA",
              "city": "Calgary",
              "country": "Canada",
              "distance": 6727,
              "formattedAddress": [
               "1411 11 St SW",
               "Calgary AB T2R 1G7",
               "Canada"
              ],
              "labeledLatLngs": [
               {
                "label": "display",
                "lat": 51.039767354410046,
                "lng": -114.08919457979881
               }
              ],
              "lat": 51.039767354410046,
              "lng": -114.08919457979881,
              "postalCode": "T2R 1G7",
              "state": "AB"
             },
             "name": "Myhre's Deli",
             "photos": {
              "count": 0,
              "groups": []
             },
             "venuePage": {
              "id": "53038081"
             }
            }
           },
           {
            "reasons": {
             "count": 0,
             "items": [
              {
               "reasonName": "globalInteractionReason",
               "summary": "This spot is popular",
               "type": "general"
              }
             ]
            },
            "referralId": "e-0-4bc20c704cdfc9b6d46f9521-27",
            "venue": {
             "categories": [
              {
               "icon": {
                "prefix": "https://ss3.4sqi.net/img/categories_v2/food/korean_",
                "suffix": ".png"
               },
               "id": "4bf58dd8d48988d113941735",
               "name": "Korean Restaurant",
               "pluralName": "Korean Restaurants",
               "primary": true,
               "shortName": "Korean"
              }
             ],
             "id": "4bc20c704cdfc9b6d46f9521",
             "location": {
              "address": "22 - 1324 10 Ave. SW",
              "cc": "CA",
              "city": "Calgary",
              "country": "Canada",
              "distance": 6686,
              "formattedAddress": [
               "22 - 1324 10 Ave. SW",
               "Calgary AB T3C 0J2",
               "Canada"
              ],
              "labeledLatLngs": [
               {
                "label": "display",
                "lat": 51.044449699892574,
                "lng": -114.09275386478788
               }
              ],
              "lat": 51.044449699892574,
              "lng": -114.09275386478788,
              "postalCode": "T3C 0J2",
              "state": "AB"
             },
             "name": "Korean Village Restaurant",
             "photos": {
              "count": 0,
              "groups": []
             }
            }
           },
           {
            "reasons": {
             "count": 0,
             "items": [
              {
               "reasonName": "globalInteractionReason",
               "summary": "This spot is popular",
               "type": "general"
              }
             ]
            },
            "referralId": "e-0-4ba690e8f964a520e45e39e3-28",
            "venue": {
             "categories": [
              {
               "icon": {
                "prefix": "https://ss3.4sqi.net/img/categories_v2/food/japanese_",
                "suffix": ".png"
               },
               "id": "4bf58dd8d48988d111941735",
               "name": "Japanese Restaurant",
               "pluralName": "Japanese Restaurants",
               "primary": true,
               "shortName": "Japanese"
              }
             ],
             "id": "4ba690e8f964a520e45e39e3",
             "location": {
              "address": "391 Aspen Glen Landing SW",
              "cc": "CA",
              "city": "Calgary",
              "country": "Canada",
              "distance": 3190,
              "formattedAddress": [
               "391 Aspen Glen Landing SW",
               "Calgary AB",
               "Canada"
              ],
              "labeledLatLngs": [
               {
                "label": "display",
                "lat": 51.04133286864333,
                "lng": -114.21043767349086
               }
              ],
              "lat": 51.04133286864333,
              "lng": -114.21043767349086,
              "state": "AB"
             },
             "name": "Edo Japan",
             "photos": {
              "count": 0,
              "groups": []
             }
            }
           },
           {
            "reasons": {
             "count": 0,
             "items": [
              {
               "reasonName": "globalInteractionReason",
               "summary": "This spot is popular",
               "type": "general"
              }
             ]
            },
            "referralId": "e-0-4b60f88bf964a52011042ae3-29",
            "venue": {
             "categories": [
              {
               "icon": {
                "prefix": "https://ss3.4sqi.net/img/categories_v2/food/deli_",
                "suffix": ".png"
               },
               "id": "4bf58dd8d48988d1c5941735",
               "name": "Sandwich Place",
               "pluralName": "Sandwich Places",
               "primary": true,
               "shortName": "Sandwiches"
              }
             ],
             "id": "4b60f88bf964a52011042ae3",
             "location": {
              "address": "#3, 2008 33 Ave. SW",
              "cc": "CA",
              "city": "Calgary",
              "country": "Canada",
              "crossStreet": "at 19 St.",
              "distance": 5117,
              "formattedAddress": [
               "#3, 2008 33 Ave. SW (at 19 St.)",
               "Calgary AB T2T 1Z4",
               "Canada"
              ],
              "labeledLatLngs": [
               {
                "label": "display",
                "lat": 51.02412290202764,
                "lng": -114.10721219355915
               }
              ],
              "lat": 51.02412290202764,
              "lng": -114.10721219355915,
              "postalCode": "T2T 1Z4",
              "state": "AB"
             },
             "name": "Avenue Deli",
             "photos": {
              "count": 0,
              "groups": []
             }
            }
           },
           {
            "reasons": {
             "count": 0,
             "items": [
              {
               "reasonName": "globalInteractionReason",
               "summary": "This spot is popular",
               "type": "general"
              }
             ]
            },
            "referralId": "e-0-4b0586ebf964a5205c7522e3-30",
            "venue": {
             "categories": [
              {
               "icon": {
                "prefix": "https://ss3.4sqi.net/img/categories_v2/food/indian_",
                "suffix": ".png"
               },
               "id": "4bf58dd8d48988d10f941735",
               "name": "Indian Restaurant",
               "pluralName": "Indian Restaurants",
               "primary": true,
               "shortName": "Indian"
              }
             ],
             "id": "4b0586ebf964a5205c7522e3",
             "location": {
              "address": "1805 14th Street Southwest",
              "cc": "CA",
              "city": "Calgary",
              "country": "Canada",
              "distance": 6262,
              "formattedAddress": [
               "1805 14th Street Southwest",
               "Calgary AB T2T 3T1",
               "Canada"
              ],
              "labeledLatLngs": [
               {
                "label": "display",
                "lat": 51.037456668278196,
                "lng": -114.09497157189695
               }
              ],
              "lat": 51.037456668278196,
              "lng": -114.09497157189695,
              "postalCode": "T2T 3T1",
              "state": "AB"
             },
             "name": "Moti Mahal Restaurant",
             "photos": {
              "count": 0,
              "groups": []
             }
            }
           },
           {
            "reasons": {
             "count": 0,
             "items": [
              {
               "reasonName": "globalInteractionReason",
               "summary": "This spot is popular",
               "type": "general"
              }
             ]
            },
            "referralId": "e-0-4f46a745e4b0d125f42faae0-31",
            "venue": {
             "categories": [
              {
               "icon": {
                "prefix": "https://ss3.4sqi.net/img/categories_v2/food/pizza_",
                "suffix": ".png"
               },
               "id": "4bf58dd8d48988d1ca941735",
               "name": "Pizza Place",
               "pluralName": "Pizza Places",
               "primary": true,
               "shortName": "Pizza"
              }
             ],
             "id": "4f46a745e4b0d125f42faae0",
             "location": {
              "address": "1236 12 Ave SW",
              "cc": "CA",
              "city": "Calgary",
              "country": "Canada",
              "distance": 6723,
              "formattedAddress": [
               "1236 12 Ave SW",
               "Calgary AB",
               "Canada"
              ],
              "labeledLatLngs": [
               {
                "label": "display",
                "lat": 51.042193066939014,
                "lng": -114.09068497859971
               }
              ],
              "lat": 51.042193066939014,
              "lng": -114.09068497859971,
              "state": "AB"
             },
             "name": "Gaga Pizzeria",
             "photos": {
              "count": 0,
              "groups": []
             }
            }
           },
           {
            "reasons": {
             "count": 0,
             "items": [
              {
               "reasonName": "globalInteractionReason",
               "summary": "This spot is popular",
               "type": "general"
              }
             ]
            },
            "referralId": "e-0-57084f05498eaad5a4839066-32",
            "venue": {
             "categories": [
              {
               "icon": {
                "prefix": "https://ss3.4sqi.net/img/categories_v2/food/snacks_",
                "suffix": ".png"
               },
               "id": "4bf58dd8d48988d1c7941735",
               "name": "Snack Place",
               "pluralName": "Snack Places",
               "primary": true,
               "shortName": "Snacks"
              }
             ],
             "id": "57084f05498eaad5a4839066",
             "location": {
              "cc": "CA",
              "country": "Canada",
              "distance": 4590,
              "formattedAddress": [
               "Canada"
              ],
              "labeledLatLngs": [
               {
                "label": "display",
                "lat": 51.023079,
                "lng": -114.11462
               }
              ],
              "lat": 51.023079,
              "lng": -114.11462
             },
             "name": "Village Ice Cream",
             "photos": {
              "count": 0,
              "groups": []
             }
            }
           },
           {
            "reasons": {
             "count": 0,
             "items": [
              {
               "reasonName": "globalInteractionReason",
               "summary": "This spot is popular",
               "type": "general"
              }
             ]
            },
            "referralId": "e-0-4b0586eef964a520397622e3-33",
            "venue": {
             "categories": [
              {
               "icon": {
                "prefix": "https://ss3.4sqi.net/img/categories_v2/food/bakery_",
                "suffix": ".png"
               },
               "id": "4bf58dd8d48988d16a941735",
               "name": "Bakery",
               "pluralName": "Bakeries",
               "primary": true,
               "shortName": "Bakery"
              }
             ],
             "id": "4b0586eef964a520397622e3",
             "location": {
              "address": "1305 17th Ave. SW",
              "cc": "CA",
              "city": "Calgary",
              "country": "Canada",
              "distance": 6475,
              "formattedAddress": [
               "1305 17th Ave. SW",
               "Calgary AB T2T 0C4",
               "Canada"
              ],
              "labeledLatLngs": [
               {
                "label": "display",
                "lat": 51.03778134961725,
                "lng": -114.09194082616062
               }
              ],
              "lat": 51.03778134961725,
              "lng": -114.09194082616062,
              "postalCode": "T2T 0C4",
              "state": "AB"
             },
             "name": "Rustic Sourdough Bakery & Deli",
             "photos": {
              "count": 0,
              "groups": []
             }
            }
           },
           {
            "reasons": {
             "count": 0,
             "items": [
              {
               "reasonName": "globalInteractionReason",
               "summary": "This spot is popular",
               "type": "general"
              }
             ]
            },
            "referralId": "e-0-4b9ae5d8f964a520cae035e3-34",
            "venue": {
             "categories": [
              {
               "icon": {
                "prefix": "https://ss3.4sqi.net/img/categories_v2/food/fastfood_",
                "suffix": ".png"
               },
               "id": "4bf58dd8d48988d16e941735",
               "name": "Fast Food Restaurant",
               "pluralName": "Fast Food Restaurants",
               "primary": true,
               "shortName": "Fast Food"
              }
             ],
             "id": "4b9ae5d8f964a520cae035e3",
             "location": {
              "address": "5621 Signal Hill Centre Southwest",
              "cc": "CA",
              "city": "Calgary",
              "country": "Canada",
              "distance": 815,
              "formattedAddress": [
               "5621 Signal Hill Centre Southwest",
               "Calgary AB T3H 3P8",
               "Canada"
              ],
              "labeledLatLngs": [
               {
                "label": "display",
                "lat": 51.018759,
                "lng": -114.168525
               }
              ],
              "lat": 51.018759,
              "lng": -114.168525,
              "neighborhood": "Signal HIll",
              "postalCode": "T3H 3P8",
              "state": "AB"
             },
             "name": "A&W",
             "photos": {
              "count": 0,
              "groups": []
             }
            }
           },
           {
            "reasons": {
             "count": 0,
             "items": [
              {
               "reasonName": "globalInteractionReason",
               "summary": "This spot is popular",
               "type": "general"
              }
             ]
            },
            "referralId": "e-0-4ffb523ce4b099c7684f2bc8-35",
            "venue": {
             "categories": [
              {
               "icon": {
                "prefix": "https://ss3.4sqi.net/img/categories_v2/food/thai_",
                "suffix": ".png"
               },
               "id": "4bf58dd8d48988d149941735",
               "name": "Thai Restaurant",
               "pluralName": "Thai Restaurants",
               "primary": true,
               "shortName": "Thai"
              }
             ],
             "id": "4ffb523ce4b099c7684f2bc8",
             "location": {
              "address": "1314 17 Ave SW",
              "cc": "CA",
              "city": "Calgary",
              "country": "Canada",
              "distance": 6436,
              "formattedAddress": [
               "1314 17 Ave SW",
               "Calgary AB T2T 0C3",
               "Canada"
              ],
              "labeledLatLngs": [
               {
                "label": "display",
                "lat": 51.037940198922016,
                "lng": -114.09260195680308
               }
              ],
              "lat": 51.037940198922016,
              "lng": -114.09260195680308,
              "postalCode": "T2T 0C3",
              "state": "AB"
             },
             "name": "Khao San Thai Kitchen",
             "photos": {
              "count": 0,
              "groups": []
             }
            }
           },
           {
            "reasons": {
             "count": 0,
             "items": [
              {
               "reasonName": "globalInteractionReason",
               "summary": "This spot is popular",
               "type": "general"
              }
             ]
            },
            "referralId": "e-0-4b0586ebf964a5206c7522e3-36",
            "venue": {
             "categories": [
              {
               "icon": {
                "prefix": "https://ss3.4sqi.net/img/categories_v2/food/moroccan_",
                "suffix": ".png"
               },
               "id": "4bf58dd8d48988d1c3941735",
               "name": "Moroccan Restaurant",
               "pluralName": "Moroccan Restaurants",
               "primary": true,
               "shortName": "Moroccan"
              }
             ],
             "id": "4b0586ebf964a5206c7522e3",
             "location": {
              "address": "4 -14th Street Northwest",
              "cc": "CA",
              "city": "Calgary",
              "country": "Canada",
              "distance": 6932,
              "formattedAddress": [
               "4 -14th Street Northwest",
               "Calgary AB T2N 1Z4",
               "Canada"
              ],
              "labeledLatLngs": [
               {
                "label": "display",
                "lat": 51.051502,
                "lng": -114.094569
               }
              ],
              "lat": 51.051502,
              "lng": -114.094569,
              "postalCode": "T2N 1Z4",
              "state": "AB"
             },
             "name": "Sultan's Tent",
             "photos": {
              "count": 0,
              "groups": []
             }
            }
           },
           {
            "reasons": {
             "count": 0,
             "items": [
              {
               "reasonName": "globalInteractionReason",
               "summary": "This spot is popular",
               "type": "general"
              }
             ]
            },
            "referralId": "e-0-4e6f80358130f6aa99ecbda2-37",
            "venue": {
             "categories": [
              {
               "icon": {
                "prefix": "https://ss3.4sqi.net/img/categories_v2/food/default_",
                "suffix": ".png"
               },
               "id": "4bf58dd8d48988d1c4941735",
               "name": "Restaurant",
               "pluralName": "Restaurants",
               "primary": true,
               "shortName": "Restaurant"
              }
             ],
             "id": "4e6f80358130f6aa99ecbda2",
             "location": {
              "address": "318 Aspen Glen Landing SW Unit 112",
              "cc": "CA",
              "city": "Calgary",
              "country": "Canada",
              "distance": 2908,
              "formattedAddress": [
               "318 Aspen Glen Landing SW Unit 112",
               "Calgary AB T3H 0N5",
               "Canada"
              ],
              "labeledLatLngs": [
               {
                "label": "display",
                "lat": 51.03923169999999,
                "lng": -114.2081162
               }
              ],
              "lat": 51.03923169999999,
              "lng": -114.2081162,
              "postalCode": "T3H 0N5",
              "state": "AB"
             },
             "name": "Original Joe's Restaurant & Bar",
             "photos": {
              "count": 0,
              "groups": []
             }
            }
           },
           {
            "reasons": {
             "count": 0,
             "items": [
              {
               "reasonName": "globalInteractionReason",
               "summary": "This spot is popular",
               "type": "general"
              }
             ]
            },
            "referralId": "e-0-4b6400c0f964a520ca9a2ae3-38",
            "venue": {
             "categories": [
              {
               "icon": {
                "prefix": "https://ss3.4sqi.net/img/categories_v2/food/middleeastern_",
                "suffix": ".png"
               },
               "id": "4bf58dd8d48988d115941735",
               "name": "Middle Eastern Restaurant",
               "pluralName": "Middle Eastern Restaurants",
               "primary": true,
               "shortName": "Middle Eastern"
              }
             ],
             "id": "4b6400c0f964a520ca9a2ae3",
             "location": {
              "address": "1512 14 St. SW",
              "cc": "CA",
              "city": "Calgary",
              "country": "Canada",
              "distance": 6337,
              "formattedAddress": [
               "1512 14 St. SW",
               "Calgary AB",
               "Canada"
              ],
              "labeledLatLngs": [
               {
                "label": "display",
                "lat": 51.03889412564594,
                "lng": -114.09460759477226
               }
              ],
              "lat": 51.03889412564594,
              "lng": -114.09460759477226,
              "state": "AB"
             },
             "name": "Shawarma Knight",
             "photos": {
              "count": 0,
              "groups": []
             }
            }
           },
           {
            "reasons": {
             "count": 0,
             "items": [
              {
               "reasonName": "globalInteractionReason",
               "summary": "This spot is popular",
               "type": "general"
              }
             ]
            },
            "referralId": "e-0-4b5f7f36f964a520cebd29e3-39",
            "venue": {
             "categories": [
              {
               "icon": {
                "prefix": "https://ss3.4sqi.net/img/categories_v2/food/breakfast_",
                "suffix": ".png"
               },
               "id": "4bf58dd8d48988d143941735",
               "name": "Breakfast Spot",
               "pluralName": "Breakfast Spots",
               "primary": true,
               "shortName": "Breakfast"
              }
             ],
             "id": "4b5f7f36f964a520cebd29e3",
             "location": {
              "address": "319 19 St. NW",
              "cc": "CA",
              "city": "Calgary",
              "country": "Canada",
              "distance": 6502,
              "formattedAddress": [
               "319 19 St. NW",
               "Calgary AB",
               "Canada"
              ],
              "labeledLatLngs": [
               {
                "label": "display",
                "lat": 51.0550860686718,
                "lng": -114.1057319911554
               }
              ],
              "lat": 51.0550860686718,
              "lng": -114.1057319911554,
              "neighborhood": "West Hillhurst",
              "state": "AB"
             },
             "name": "Dairy Lane Cafe",
             "photos": {
              "count": 0,
              "groups": []
             }
            }
           },
           {
            "reasons": {
             "count": 0,
             "items": [
              {
               "reasonName": "globalInteractionReason",
               "summary": "This spot is popular",
               "type": "general"
              }
             ]
            },
            "referralId": "e-0-4c92dd2f911b8cfa694df1b5-40",
            "venue": {
             "categories": [
              {
               "icon": {
                "prefix": "https://ss3.4sqi.net/img/categories_v2/food/sushi_",
                "suffix": ".png"
               },
               "id": "4bf58dd8d48988d1d2941735",
               "name": "Sushi Restaurant",
               "pluralName": "Sushi Restaurants",
               "primary": true,
               "shortName": "Sushi"
              }
             ],
             "id": "4c92dd2f911b8cfa694df1b5",
             "location": {
              "address": "128 30 Springborough Blvd SW",
              "cc": "CA",
              "city": "Calgary",
              "country": "Canada",
              "distance": 1819,
              "formattedAddress": [
               "128 30 Springborough Blvd SW",
               "Calgary AB T3H",
               "Canada"
              ],
              "labeledLatLngs": [
               {
                "label": "display",
                "lat": 51.03467508967631,
                "lng": -114.19143997247427
               }
              ],
              "lat": 51.03467508967631,
              "lng": -114.19143997247427,
              "postalCode": "T3H",
              "state": "AB"
             },
             "name": "Haru Sushi Bar",
             "photos": {
              "count": 0,
              "groups": []
             }
            }
           },
           {
            "reasons": {
             "count": 0,
             "items": [
              {
               "reasonName": "globalInteractionReason",
               "summary": "This spot is popular",
               "type": "general"
              }
             ]
            },
            "referralId": "e-0-4b6b7cacf964a520e50b2ce3-41",
            "venue": {
             "categories": [
              {
               "icon": {
                "prefix": "https://ss3.4sqi.net/img/categories_v2/food/default_",
                "suffix": ".png"
               },
               "id": "4bf58dd8d48988d1c4941735",
               "name": "Restaurant",
               "pluralName": "Restaurants",
               "primary": true,
               "shortName": "Restaurant"
              }
             ],
             "id": "4b6b7cacf964a520e50b2ce3",
             "location": {
              "address": "8 Weston Dr Sw",
              "cc": "CA",
              "city": "Calgary",
              "country": "Canada",
              "distance": 4952,
              "formattedAddress": [
               "8 Weston Dr Sw",
               "Calgary AB",
               "Canada"
              ],
              "labeledLatLngs": [
               {
                "label": "display",
                "lat": 51.06351648939471,
                "lng": -114.19470374002124
               }
              ],
              "lat": 51.06351648939471,
              "lng": -114.19470374002124,
              "state": "AB"
             },
             "name": "Cafe MoMoKo",
             "photos": {
              "count": 0,
              "groups": []
             }
            }
           },
           {
            "reasons": {
             "count": 0,
             "items": [
              {
               "reasonName": "globalInteractionReason",
               "summary": "This spot is popular",
               "type": "general"
              }
             ]
            },
            "referralId": "e-0-4b231a12f964a5204c5324e3-42",
            "venue": {
             "categories": [
              {
               "icon": {
                "prefix": "https://ss3.4sqi.net/img/categories_v2/food/hotdog_",
                "suffix": ".png"
               },
               "id": "4bf58dd8d48988d16f941735",
               "name": "Hot Dog Joint",
               "pluralName": "Hot Dog Joints",
               "primary": true,
               "shortName": "Hot Dogs"
              }
             ],
             "id": "4b231a12f964a5204c5324e3",
             "location": {
              "address": "1022 17 Ave SW",
              "cc": "CA",
              "city": "Calgary",
              "country": "Canada",
              "distance": 6889,
              "formattedAddress": [
               "1022 17 Ave SW",
               "Calgary AB T2T 0A5",
               "Canada"
              ],
              "labeledLatLngs": [
               {
                "label": "display",
                "lat": 51.037850962671726,
                "lng": -114.08578114398912
               }
              ],
              "lat": 51.037850962671726,
              "lng": -114.08578114398912,
              "postalCode": "T2T 0A5",
              "state": "AB"
             },
             "name": "Tubby Dog",
             "photos": {
              "count": 0,
              "groups": []
             }
            }
           },
           {
            "reasons": {
             "count": 0,
             "items": [
              {
               "reasonName": "globalInteractionReason",
               "summary": "This spot is popular",
               "type": "general"
              }
             ]
            },
            "referralId": "e-0-4b9b03dcf964a520deeb35e3-43",
            "venue": {
             "categories": [
              {
               "icon": {
                "prefix": "https://ss3.4sqi.net/img/categories_v2/food/korean_",
                "suffix": ".png"
               },
               "id": "4bf58dd8d48988d113941735",
               "name": "Korean Restaurant",
               "pluralName": "Korean Restaurants",
               "primary": true,
               "shortName": "Korean"
              }
             ],
             "id": "4b9b03dcf964a520deeb35e3",
             "location": {
              "cc": "CA",
              "country": "Canada",
              "distance": 2896,
              "formattedAddress": [
               "Canada"
              ],
              "labeledLatLngs": [
               {
                "label": "display",
                "lat": 51.02996222294157,
                "lng": -114.1417849884314
               }
              ],
              "lat": 51.02996222294157,
              "lng": -114.1417849884314
             },
             "name": "San Dong Banjeom",
             "photos": {
              "count": 0,
              "groups": []
             }
            }
           },
           {
            "reasons": {
             "count": 0,
             "items": [
              {
               "reasonName": "globalInteractionReason",
               "summary": "This spot is popular",
               "type": "general"
              }
             ]
            },
            "referralId": "e-0-4b198b5bf964a52037df23e3-44",
            "venue": {
             "categories": [
              {
               "icon": {
                "prefix": "https://ss3.4sqi.net/img/categories_v2/food/default_",
                "suffix": ".png"
               },
               "id": "4bf58dd8d48988d1c4941735",
               "name": "Restaurant",
               "pluralName": "Restaurants",
               "primary": true,
               "shortName": "Restaurant"
              }
             ],
             "id": "4b198b5bf964a52037df23e3",
             "location": {
              "address": "#2000, 873 85 St. SW",
              "cc": "CA",
              "city": "Calgary",
              "country": "Canada",
              "distance": 4983,
              "formattedAddress": [
               "#2000, 873 85 St. SW",
               "Calgary AB T3H 0J5",
               "Canada"
              ],
              "labeledLatLngs": [
               {
                "label": "display",
                "lat": 51.05995283111409,
                "lng": -114.21211131819531
               }
              ],
              "lat": 51.05995283111409,
              "lng": -114.21211131819531,
              "postalCode": "T3H 0J5",
              "state": "AB"
             },
             "name": "Fergus & Bix Restaurant and Beer Market",
             "photos": {
              "count": 0,
              "groups": []
             }
            }
           },
           {
            "reasons": {
             "count": 0,
             "items": [
              {
               "reasonName": "globalInteractionReason",
               "summary": "This spot is popular",
               "type": "general"
              }
             ]
            },
            "referralId": "e-0-4b0586f1f964a5201e7722e3-45",
            "venue": {
             "categories": [
              {
               "icon": {
                "prefix": "https://ss3.4sqi.net/img/categories_v2/shops/food_foodcourt_",
                "suffix": ".png"
               },
               "id": "4bf58dd8d48988d120951735",
               "name": "Food Court",
               "pluralName": "Food Courts",
               "primary": true,
               "shortName": "Food Court"
              }
             ],
             "id": "4b0586f1f964a5201e7722e3",
             "location": {
              "address": "4825 Mount Royal Gate SW",
              "cc": "CA",
              "city": "Calgary",
              "country": "Canada",
              "distance": 3382,
              "formattedAddress": [
               "4825 Mount Royal Gate SW",
               "Calgary AB T3E 6K6",
               "Canada"
              ],
              "labeledLatLngs": [
               {
                "label": "display",
                "lat": 51.01372334783689,
                "lng": -114.13274387990427
               }
              ],
              "lat": 51.01372334783689,
              "lng": -114.13274387990427,
              "postalCode": "T3E 6K6",
              "state": "AB"
             },
             "name": "Wyckham House",
             "photos": {
              "count": 0,
              "groups": []
             }
            }
           },
           {
            "reasons": {
             "count": 0,
             "items": [
              {
               "reasonName": "globalInteractionReason",
               "summary": "This spot is popular",
               "type": "general"
              }
             ]
            },
            "referralId": "e-0-4fef18ffe4b0b1e8317edc2e-46",
            "venue": {
             "categories": [
              {
               "icon": {
                "prefix": "https://ss3.4sqi.net/img/categories_v2/food/breakfast_",
                "suffix": ".png"
               },
               "id": "4bf58dd8d48988d143941735",
               "name": "Breakfast Spot",
               "pluralName": "Breakfast Spots",
               "primary": true,
               "shortName": "Breakfast"
              }
             ],
             "id": "4fef18ffe4b0b1e8317edc2e",
             "location": {
              "address": "1301 10 Ave SW",
              "cc": "CA",
              "city": "Calgary",
              "country": "Canada",
              "distance": 6751,
              "formattedAddress": [
               "1301 10 Ave SW",
               "Calgary AB T3C 0J4",
               "Canada"
              ],
              "labeledLatLngs": [
               {
                "label": "display",
                "lat": 51.044118596282296,
                "lng": -114.09151144121125
               }
              ],
              "lat": 51.044118596282296,
              "lng": -114.09151144121125,
              "postalCode": "T3C 0J4",
              "state": "AB"
             },
             "name": "Monki Breakfastclub & Bistro",
             "photos": {
              "count": 0,
              "groups": []
             },
             "venuePage": {
              "id": "529345261"
             }
            }
           },
           {
            "reasons": {
             "count": 0,
             "items": [
              {
               "reasonName": "globalInteractionReason",
               "summary": "This spot is popular",
               "type": "general"
              }
             ]
            },
            "referralId": "e-0-4b64d15df964a52077d22ae3-47",
            "venue": {
             "categories": [
              {
               "icon": {
                "prefix": "https://ss3.4sqi.net/img/categories_v2/food/fastfood_",
                "suffix": ".png"
               },
               "id": "4bf58dd8d48988d16e941735",
               "name": "Fast Food Restaurant",
               "pluralName": "Fast Food Restaurants",
               "primary": true,
               "shortName": "Fast Food"
              }
             ],
             "id": "4b64d15df964a52077d22ae3",
             "location": {
              "address": "100 Stewart Green SW",
              "cc": "CA",
              "city": "Calgary",
              "country": "Canada",
              "crossStreet": "Sarcee Trail & Richmond Rd",
              "distance": 936,
              "formattedAddress": [
               "100 Stewart Green SW (Sarcee Trail & Richmond Rd)",
               "Calgary AB T3H 3C8",
               "Canada"
              ],
              "labeledLatLngs": [
               {
                "label": "display",
                "lat": 51.017580213750534,
                "lng": -114.16718947788047
               }
              ],
              "lat": 51.017580213750534,
              "lng": -114.16718947788047,
              "postalCode": "T3H 3C8",
              "state": "AB"
             },
             "name": "McDonald's",
             "photos": {
              "count": 0,
              "groups": []
             }
            }
           },
           {
            "reasons": {
             "count": 0,
             "items": [
              {
               "reasonName": "globalInteractionReason",
               "summary": "This spot is popular",
               "type": "general"
              }
             ]
            },
            "referralId": "e-0-4bdcc1dcc79cc9287a0388e9-48",
            "venue": {
             "categories": [
              {
               "icon": {
                "prefix": "https://ss3.4sqi.net/img/categories_v2/food/sushi_",
                "suffix": ".png"
               },
               "id": "4bf58dd8d48988d1d2941735",
               "name": "Sushi Restaurant",
               "pluralName": "Sushi Restaurants",
               "primary": true,
               "shortName": "Sushi"
              }
             ],
             "id": "4bdcc1dcc79cc9287a0388e9",
             "location": {
              "address": "2009 33 Ave. SW",
              "cc": "CA",
              "city": "Calgary",
              "country": "Canada",
              "distance": 5098,
              "formattedAddress": [
               "2009 33 Ave. SW",
               "Calgary AB T2T 1Z4",
               "Canada"
              ],
              "labeledLatLngs": [
               {
                "label": "display",
                "lat": 51.02370785376438,
                "lng": -114.10742621975263
               }
              ],
              "lat": 51.02370785376438,
              "lng": -114.10742621975263,
              "postalCode": "T2T 1Z4",
              "state": "AB"
             },
             "name": "Globefish",
             "photos": {
              "count": 0,
              "groups": []
             }
            }
           },
           {
            "reasons": {
             "count": 0,
             "items": [
              {
               "reasonName": "globalInteractionReason",
               "summary": "This spot is popular",
               "type": "general"
              }
             ]
            },
            "referralId": "e-0-5682daa6498efe89427fe6b0-49",
            "venue": {
             "categories": [
              {
               "icon": {
                "prefix": "https://ss3.4sqi.net/img/categories_v2/food/default_",
                "suffix": ".png"
               },
               "id": "52e81612bcbc57f1066b79f1",
               "name": "Bistro",
               "pluralName": "Bistros",
               "primary": true,
               "shortName": "Bistro"
              }
             ],
             "id": "5682daa6498efe89427fe6b0",
             "location": {
              "cc": "CA",
              "city": "Calgary",
              "country": "Canada",
              "distance": 3731,
              "formattedAddress": [
               "Calgary AB",
               "Canada"
              ],
              "labeledLatLngs": [
               {
                "label": "display",
                "lat": 51.03805627312,
                "lng": -114.1350941012135
               }
              ],
              "lat": 51.03805627312,
              "lng": -114.1350941012135,
              "state": "AB"
             },
             "name": "Sauce",
             "photos": {
              "count": 0,
              "groups": []
             }
            }
           },
           {
            "reasons": {
             "count": 0,
             "items": [
              {
               "reasonName": "globalInteractionReason",
               "summary": "This spot is popular",
               "type": "general"
              }
             ]
            },
            "referralId": "e-0-4fc83ca6e4b000e38ec6eadb-50",
            "venue": {
             "categories": [
              {
               "icon": {
                "prefix": "https://ss3.4sqi.net/img/categories_v2/food/italian_",
                "suffix": ".png"
               },
               "id": "4bf58dd8d48988d110941735",
               "name": "Italian Restaurant",
               "pluralName": "Italian Restaurants",
               "primary": true,
               "shortName": "Italian"
              }
             ],
             "id": "4fc83ca6e4b000e38ec6eadb",
             "location": {
              "address": "1012 17 Ave. Southwest",
              "cc": "CA",
              "city": "Calgary",
              "country": "Canada",
              "distance": 6947,
              "formattedAddress": [
               "1012 17 Ave. Southwest",
               "Calgary AB T2T 0A5",
               "Canada"
              ],
              "labeledLatLngs": [
               {
                "label": "display",
                "lat": 51.038013416932706,
                "lng": -114.08498884768005
               }
              ],
              "lat": 51.038013416932706,
              "lng": -114.08498884768005,
              "postalCode": "T2T 0A5",
              "state": "AB"
             },
             "name": "Cibo Calgary",
             "photos": {
              "count": 0,
              "groups": []
             },
             "venuePage": {
              "id": "52328659"
             }
            }
           },
           {
            "reasons": {
             "count": 0,
             "items": [
              {
               "reasonName": "globalInteractionReason",
               "summary": "This spot is popular",
               "type": "general"
              }
             ]
            },
            "referralId": "e-0-524b569d498e90f3f39dbc5d-51",
            "venue": {
             "categories": [
              {
               "icon": {
                "prefix": "https://ss3.4sqi.net/img/categories_v2/food/mexican_",
                "suffix": ".png"
               },
               "id": "4bf58dd8d48988d1c1941735",
               "name": "Mexican Restaurant",
               "pluralName": "Mexican Restaurants",
               "primary": true,
               "shortName": "Mexican"
              }
             ],
             "id": "524b569d498e90f3f39dbc5d",
             "location": {
              "address": "1129 17 Avenue SW",
              "cc": "CA",
              "city": "Calgary",
              "country": "Canada",
              "distance": 6668,
              "formattedAddress": [
               "1129 17 Avenue SW",
               "Calgary AB Canada",
               "Canada"
              ],
              "labeledLatLngs": [
               {
                "label": "display",
                "lat": 51.037610647718424,
                "lng": -114.08896629954917
               }
              ],
              "lat": 51.037610647718424,
              "lng": -114.08896629954917,
              "postalCode": "Canada",
              "state": "AB"
             },
             "name": "La Vida Loca",
             "photos": {
              "count": 0,
              "groups": []
             }
            }
           },
           {
            "reasons": {
             "count": 0,
             "items": [
              {
               "reasonName": "globalInteractionReason",
               "summary": "This spot is popular",
               "type": "general"
              }
             ]
            },
            "referralId": "e-0-4ba50faef964a5206cd738e3-52",
            "venue": {
             "categories": [
              {
               "icon": {
                "prefix": "https://ss3.4sqi.net/img/categories_v2/food/deli_",
                "suffix": ".png"
               },
               "id": "4bf58dd8d48988d1c5941735",
               "name": "Sandwich Place",
               "pluralName": "Sandwich Places",
               "primary": true,
               "shortName": "Sandwiches"
              }
             ],
             "id": "4ba50faef964a5206cd738e3",
             "location": {
              "cc": "CA",
              "country": "Canada",
              "distance": 6925,
              "formattedAddress": [
               "Canada"
              ],
              "labeledLatLngs": [
               {
                "label": "display",
                "lat": 50.982325224144134,
                "lng": -114.10132011042822
               }
              ],
              "lat": 50.982325224144134,
              "lng": -114.10132011042822
             },
             "name": "Railroad Cafe",
             "photos": {
              "count": 0,
              "groups": []
             }
            }
           },
           {
            "reasons": {
             "count": 0,
             "items": [
              {
               "reasonName": "globalInteractionReason",
               "summary": "This spot is popular",
               "type": "general"
              }
             ]
            },
            "referralId": "e-0-4b79c12ef964a520cc0f2fe3-53",
            "venue": {
             "categories": [
              {
               "icon": {
                "prefix": "https://ss3.4sqi.net/img/categories_v2/food/korean_",
                "suffix": ".png"
               },
               "id": "4bf58dd8d48988d113941735",
               "name": "Korean Restaurant",
               "pluralName": "Korean Restaurants",
               "primary": true,
               "shortName": "Korean"
              }
             ],
             "id": "4b79c12ef964a520cc0f2fe3",
             "location": {
              "cc": "CA",
              "country": "Canada",
              "distance": 2830,
              "formattedAddress": [
               "Canada"
              ],
              "labeledLatLngs": [
               {
                "label": "display",
                "lat": 51.013907294477036,
                "lng": -114.14075240120266
               }
              ],
              "lat": 51.013907294477036,
              "lng": -114.14075240120266
             },
             "name": "Sushi Hanami",
             "photos": {
              "count": 0,
              "groups": []
             }
            }
           },
           {
            "reasons": {
             "count": 0,
             "items": [
              {
               "reasonName": "globalInteractionReason",
               "summary": "This spot is popular",
               "type": "general"
              }
             ]
            },
            "referralId": "e-0-4b0586e8f964a520597422e3-54",
            "venue": {
             "categories": [
              {
               "icon": {
                "prefix": "https://ss3.4sqi.net/img/categories_v2/food/asian_",
                "suffix": ".png"
               },
               "id": "4bf58dd8d48988d145941735",
               "name": "Chinese Restaurant",
               "pluralName": "Chinese Restaurants",
               "primary": true,
               "shortName": "Chinese"
              }
             ],
             "id": "4b0586e8f964a520597422e3",
             "location": {
              "address": "206-1919 Sirocco Dr. S.W.",
              "cc": "CA",
              "city": "Calgary",
              "country": "Canada",
              "distance": 2012,
              "formattedAddress": [
               "206-1919 Sirocco Dr. S.W.",
               "Calgary AB T3H 2Y3",
               "Canada"
              ],
              "labeledLatLngs": [
               {
                "label": "display",
                "lat": 51.03605639258654,
                "lng": -114.16677924810146
               }
              ],
              "lat": 51.03605639258654,
              "lng": -114.16677924810146,
              "postalCode": "T3H 2Y3",
              "state": "AB"
             },
             "name": "Signature Palace Restaurant",
             "photos": {
              "count": 0,
              "groups": []
             }
            }
           },
           {
            "reasons": {
             "count": 0,
             "items": [
              {
               "reasonName": "globalInteractionReason",
               "summary": "This spot is popular",
               "type": "general"
              }
             ]
            },
            "referralId": "e-0-4b0586e8f964a520567422e3-55",
            "venue": {
             "categories": [
              {
               "icon": {
                "prefix": "https://ss3.4sqi.net/img/categories_v2/food/default_",
                "suffix": ".png"
               },
               "id": "4bf58dd8d48988d1c4941735",
               "name": "Restaurant",
               "pluralName": "Restaurants",
               "primary": true,
               "shortName": "Restaurant"
              }
             ],
             "id": "4b0586e8f964a520567422e3",
             "location": {
              "address": "2047 34th Avenue SW",
              "cc": "CA",
              "city": "Calgary",
              "country": "Canada",
              "distance": 4979,
              "formattedAddress": [
               "2047 34th Avenue SW",
               "Calgary AB T2T 2C4",
               "Canada"
              ],
              "labeledLatLngs": [
               {
                "label": "display",
                "lat": 51.02307499458444,
                "lng": -114.10905909555515
               }
              ],
              "lat": 51.02307499458444,
              "lng": -114.10905909555515,
              "postalCode": "T2T 2C4",
              "state": "AB"
             },
             "name": "Original Joe's Restaurant & Bar",
             "photos": {
              "count": 0,
              "groups": []
             }
            }
           },
           {
            "reasons": {
             "count": 0,
             "items": [
              {
               "reasonName": "globalInteractionReason",
               "summary": "This spot is popular",
               "type": "general"
              }
             ]
            },
            "referralId": "e-0-4b0586ebf964a520577522e3-56",
            "venue": {
             "categories": [
              {
               "icon": {
                "prefix": "https://ss3.4sqi.net/img/categories_v2/food/default_",
                "suffix": ".png"
               },
               "id": "4bf58dd8d48988d14e941735",
               "name": "American Restaurant",
               "pluralName": "American Restaurants",
               "primary": true,
               "shortName": "American"
              }
             ],
             "id": "4b0586ebf964a520577522e3",
             "location": {
              "address": "3511 17 Ave. S.W.",
              "cc": "CA",
              "city": "Calgary",
              "country": "Canada",
              "distance": 3571,
              "formattedAddress": [
               "3511 17 Ave. S.W.",
               "Calgary AB T3E 0B6",
               "Canada"
              ],
              "labeledLatLngs": [
               {
                "label": "display",
                "lat": 51.03772602409279,
                "lng": -114.13748333729652
               }
              ],
              "lat": 51.03772602409279,
              "lng": -114.13748333729652,
              "postalCode": "T3E 0B6",
              "state": "AB"
             },
             "name": "Greco's Pizza & George's Lounge",
             "photos": {
              "count": 0,
              "groups": []
             }
            }
           },
           {
            "reasons": {
             "count": 0,
             "items": [
              {
               "reasonName": "globalInteractionReason",
               "summary": "This spot is popular",
               "type": "general"
              }
             ]
            },
            "referralId": "e-0-57c8e650498e17c4530d406e-57",
            "venue": {
             "categories": [
              {
               "icon": {
                "prefix": "https://ss3.4sqi.net/img/categories_v2/food/portuguese_",
                "suffix": ".png"
               },
               "id": "4def73e84765ae376e57713a",
               "name": "Portuguese Restaurant",
               "pluralName": "Portuguese Restaurants",
               "primary": true,
               "shortName": "Portuguese"
              }
             ],
             "id": "57c8e650498e17c4530d406e",
             "location": {
              "address": "1029 - 17th Avenue S.W.",
              "cc": "CA",
              "city": "Calgary",
              "country": "Canada",
              "distance": 6859,
              "formattedAddress": [
               "1029 - 17th Avenue S.W.",
               "Calgary AB T2T 0A9",
               "Canada"
              ],
              "labeledLatLngs": [
               {
                "label": "display",
                "lat": 51.03768,
                "lng": -114.08615
               }
              ],
              "lat": 51.03768,
              "lng": -114.08615,
              "postalCode": "T2T 0A9",
              "state": "AB"
             },
             "name": "Nando's",
             "photos": {
              "count": 0,
              "groups": []
             }
            }
           },
           {
            "reasons": {
             "count": 0,
             "items": [
              {
               "reasonName": "globalInteractionReason",
               "summary": "This spot is popular",
               "type": "general"
              }
             ]
            },
            "referralId": "e-0-4b4d4855f964a5200cd026e3-58",
            "venue": {
             "categories": [
              {
               "icon": {
                "prefix": "https://ss3.4sqi.net/img/categories_v2/food/fastfood_",
                "suffix": ".png"
               },
               "id": "4bf58dd8d48988d16e941735",
               "name": "Fast Food Restaurant",
               "pluralName": "Fast Food Restaurants",
               "primary": true,
               "shortName": "Fast Food"
              }
             ],
             "id": "4b4d4855f964a5200cd026e3",
             "location": {
              "address": "5929 Signal Hill Centre S.W.",
              "cc": "CA",
              "city": "Calgary",
              "country": "Canada",
              "distance": 560,
              "formattedAddress": [
               "5929 Signal Hill Centre S.W.",
               "Calgary AB T3H 3P8",
               "Canada"
              ],
              "labeledLatLngs": [
               {
                "label": "display",
                "lat": 51.016947237446466,
                "lng": -114.17362600564951
               }
              ],
              "lat": 51.016947237446466,
              "lng": -114.17362600564951,
              "postalCode": "T3H 3P8",
              "state": "AB"
             },
             "name": "Wendy’s",
             "photos": {
              "count": 0,
              "groups": []
             }
            }
           },
           {
            "reasons": {
             "count": 0,
             "items": [
              {
               "reasonName": "globalInteractionReason",
               "summary": "This spot is popular",
               "type": "general"
              }
             ]
            },
            "referralId": "e-0-53892a31498e0c921f9be084-59",
            "venue": {
             "categories": [
              {
               "icon": {
                "prefix": "https://ss3.4sqi.net/img/categories_v2/food/indian_",
                "suffix": ".png"
               },
               "id": "4bf58dd8d48988d10f941735",
               "name": "Indian Restaurant",
               "pluralName": "Indian Restaurants",
               "primary": true,
               "shortName": "Indian"
              }
             ],
             "id": "53892a31498e0c921f9be084",
             "location": {
              "address": "3126 - 288 St. Moritz Dr SW",
              "cc": "CA",
              "city": "Calgary",
              "country": "Canada",
              "distance": 2676,
              "formattedAddress": [
               "3126 - 288 St. Moritz Dr SW",
               "Calgary AB",
               "Canada"
              ],
              "labeledLatLngs": [
               {
                "label": "display",
                "lat": 51.03359,
                "lng": -114.211542
               }
              ],
              "lat": 51.03359,
              "lng": -114.211542,
              "state": "AB"
             },
             "name": "Nawab",
             "photos": {
              "count": 0,
              "groups": []
             }
            }
           },
           {
            "reasons": {
             "count": 0,
             "items": [
              {
               "reasonName": "globalInteractionReason",
               "summary": "This spot is popular",
               "type": "general"
              }
             ]
            },
            "referralId": "e-0-587d38d28cb34e044d145796-60",
            "venue": {
             "categories": [
              {
               "icon": {
                "prefix": "https://ss3.4sqi.net/img/categories_v2/food/default_",
                "suffix": ".png"
               },
               "id": "4bf58dd8d48988d1c4941735",
               "name": "Restaurant",
               "pluralName": "Restaurants",
               "primary": true,
               "shortName": "Restaurant"
              }
             ],
             "id": "587d38d28cb34e044d145796",
             "location": {
              "address": "1918 Kensington road NW",
              "cc": "CA",
              "city": "Calgary",
              "country": "Canada",
              "distance": 6430,
              "formattedAddress": [
               "1918 Kensington road NW",
               "Calgary AB T2N 3R5",
               "Canada"
              ],
              "labeledLatLngs": [
               {
                "label": "display",
                "lat": 51.05275251640816,
                "lng": -114.10433650016785
               }
              ],
              "lat": 51.05275251640816,
              "lng": -114.10433650016785,
              "neighborhood": "West Hillhurst",
              "postalCode": "T2N 3R5",
              "state": "AB"
             },
             "name": "1918 Tap and Table",
             "photos": {
              "count": 0,
              "groups": []
             },
             "venuePage": {
              "id": "433643063"
             }
            }
           },
           {
            "reasons": {
             "count": 0,
             "items": [
              {
               "reasonName": "globalInteractionReason",
               "summary": "This spot is popular",
               "type": "general"
              }
             ]
            },
            "referralId": "e-0-4b71c916f964a520505c2de3-61",
            "venue": {
             "categories": [
              {
               "icon": {
                "prefix": "https://ss3.4sqi.net/img/categories_v2/food/vietnamese_",
                "suffix": ".png"
               },
               "id": "4bf58dd8d48988d14a941735",
               "name": "Vietnamese Restaurant",
               "pluralName": "Vietnamese Restaurants",
               "primary": true,
               "shortName": "Vietnamese"
              }
             ],
             "id": "4b71c916f964a520505c2de3",
             "location": {
              "address": "116, 3715 - 51 Street SW",
              "cc": "CA",
              "city": "Calgary",
              "country": "Canada",
              "distance": 1260,
              "formattedAddress": [
               "116, 3715 - 51 Street SW",
               "Calgary AB",
               "Canada"
              ],
              "labeledLatLngs": [
               {
                "label": "display",
                "lat": 51.021006830985506,
                "lng": -114.16207551871217
               }
              ],
              "lat": 51.021006830985506,
              "lng": -114.16207551871217,
              "state": "AB"
             },
             "name": "Lemongrass Vietnamese Cuisine",
             "photos": {
              "count": 0,
              "groups": []
             }
            }
           },
           {
            "reasons": {
             "count": 0,
             "items": [
              {
               "reasonName": "globalInteractionReason",
               "summary": "This spot is popular",
               "type": "general"
              }
             ]
            },
            "referralId": "e-0-5019c5c3e4b0f2d501f6702f-62",
            "venue": {
             "categories": [
              {
               "icon": {
                "prefix": "https://ss3.4sqi.net/img/categories_v2/food/mexican_",
                "suffix": ".png"
               },
               "id": "4bf58dd8d48988d1c1941735",
               "name": "Mexican Restaurant",
               "pluralName": "Mexican Restaurants",
               "primary": true,
               "shortName": "Mexican"
              }
             ],
             "id": "5019c5c3e4b0f2d501f6702f",
             "location": {
              "address": "306 Aspen Glen Landing,",
              "cc": "CA",
              "city": "Calgary",
              "country": "Canada",
              "crossStreet": "17 Ave SW",
              "distance": 2882,
              "formattedAddress": [
               "306 Aspen Glen Landing, (17 Ave SW)",
               "Calgary AB T3H 0N5",
               "Canada"
              ],
              "labeledLatLngs": [
               {
                "label": "display",
                "lat": 51.039145,
                "lng": -114.207712
               }
              ],
              "lat": 51.039145,
              "lng": -114.207712,
              "postalCode": "T3H 0N5",
              "state": "AB"
             },
             "name": "Mucho Burrito Fresh Mexican Grill",
             "photos": {
              "count": 0,
              "groups": []
             }
            }
           },
           {
            "reasons": {
             "count": 0,
             "items": [
              {
               "reasonName": "globalInteractionReason",
               "summary": "This spot is popular",
               "type": "general"
              }
             ]
            },
            "referralId": "e-0-4b3d6783f964a520af9325e3-63",
            "venue": {
             "categories": [
              {
               "icon": {
                "prefix": "https://ss3.4sqi.net/img/categories_v2/food/sushi_",
                "suffix": ".png"
               },
               "id": "4bf58dd8d48988d1d2941735",
               "name": "Sushi Restaurant",
               "pluralName": "Sushi Restaurants",
               "primary": true,
               "shortName": "Sushi"
              }
             ],
             "id": "4b3d6783f964a520af9325e3",
             "location": {
              "address": "3919 Richmond Rd SW",
              "cc": "CA",
              "city": "Calgary",
              "country": "Canada",
              "crossStreet": "37th St.",
              "distance": 2562,
              "formattedAddress": [
               "3919 Richmond Rd SW (37th St.)",
               "Calgary AB",
               "Canada"
              ],
              "labeledLatLngs": [
               {
                "label": "display",
                "lat": 51.02092536909716,
                "lng": -114.14343489533097
               }
              ],
              "lat": 51.02092536909716,
              "lng": -114.14343489533097,
              "state": "AB"
             },
             "name": "Momoyama Sushi",
             "photos": {
              "count": 0,
              "groups": []
             }
            }
           },
           {
            "reasons": {
             "count": 0,
             "items": [
              {
               "reasonName": "globalInteractionReason",
               "summary": "This spot is popular",
               "type": "general"
              }
             ]
            },
            "referralId": "e-0-4bc0ebd22a89ef3b8271f188-64",
            "venue": {
             "categories": [
              {
               "icon": {
                "prefix": "https://ss3.4sqi.net/img/categories_v2/food/deli_",
                "suffix": ".png"
               },
               "id": "4bf58dd8d48988d1c5941735",
               "name": "Sandwich Place",
               "pluralName": "Sandwich Places",
               "primary": true,
               "shortName": "Sandwiches"
              }
             ],
             "id": "4bc0ebd22a89ef3b8271f188",
             "location": {
              "address": "Stewart Green SW 137",
              "cc": "CA",
              "city": "Calgary",
              "country": "Canada",
              "distance": 826,
              "formattedAddress": [
               "Stewart Green SW 137",
               "Calgary AB T3H 3C8",
               "Canada"
              ],
              "labeledLatLngs": [
               {
                "label": "display",
                "lat": 51.01706857200885,
                "lng": -114.169150546315
               }
              ],
              "lat": 51.01706857200885,
              "lng": -114.169150546315,
              "neighborhood": "Signal HIll",
              "postalCode": "T3H 3C8",
              "state": "AB"
             },
             "name": "Subway",
             "photos": {
              "count": 0,
              "groups": []
             }
            }
           },
           {
            "reasons": {
             "count": 0,
             "items": [
              {
               "reasonName": "globalInteractionReason",
               "summary": "This spot is popular",
               "type": "general"
              }
             ]
            },
            "referralId": "e-0-4c13f103a9c220a170b5569d-65",
            "venue": {
             "categories": [
              {
               "icon": {
                "prefix": "https://ss3.4sqi.net/img/categories_v2/food/vietnamese_",
                "suffix": ".png"
               },
               "id": "4bf58dd8d48988d14a941735",
               "name": "Vietnamese Restaurant",
               "pluralName": "Vietnamese Restaurants",
               "primary": true,
               "shortName": "Vietnamese"
              }
             ],
             "id": "4c13f103a9c220a170b5569d",
             "location": {
              "address": "1619 37 Street SW",
              "cc": "CA",
              "city": "Calgary",
              "country": "Canada",
              "distance": 3404,
              "formattedAddress": [
               "1619 37 Street SW",
               "Calgary AB",
               "Canada"
              ],
              "labeledLatLngs": [
               {
                "label": "display",
                "lat": 51.0388937329704,
                "lng": -114.14175402111688
               }
              ],
              "lat": 51.0388937329704,
              "lng": -114.14175402111688,
              "state": "AB"
             },
             "name": "Viet Sub Express",
             "photos": {
              "count": 0,
              "groups": []
             }
            }
           },
           {
            "reasons": {
             "count": 0,
             "items": [
              {
               "reasonName": "globalInteractionReason",
               "summary": "This spot is popular",
               "type": "general"
              }
             ]
            },
            "referralId": "e-0-4f5186c4e4b063296c0cfc0b-66",
            "venue": {
             "categories": [
              {
               "icon": {
                "prefix": "https://ss3.4sqi.net/img/categories_v2/food/italian_",
                "suffix": ".png"
               },
               "id": "4bf58dd8d48988d110941735",
               "name": "Italian Restaurant",
               "pluralName": "Italian Restaurants",
               "primary": true,
               "shortName": "Italian"
              }
             ],
             "id": "4f5186c4e4b063296c0cfc0b",
             "location": {
              "cc": "CA",
              "country": "Canada",
              "distance": 5078,
              "formattedAddress": [
               "Canada"
              ],
              "labeledLatLngs": [
               {
                "label": "display",
                "lat": 51.060777176053136,
                "lng": -114.2125354089372
               }
              ],
              "lat": 51.060777176053136,
              "lng": -114.2125354089372
             },
             "name": "Mercato West",
             "photos": {
              "count": 0,
              "groups": []
             }
            }
           },
           {
            "reasons": {
             "count": 0,
             "items": [
              {
               "reasonName": "globalInteractionReason",
               "summary": "This spot is popular",
               "type": "general"
              }
             ]
            },
            "referralId": "e-0-4b6cce3cf964a520b3552ce3-67",
            "venue": {
             "categories": [
              {
               "icon": {
                "prefix": "https://ss3.4sqi.net/img/categories_v2/food/vietnamese_",
                "suffix": ".png"
               },
               "id": "4bf58dd8d48988d14a941735",
               "name": "Vietnamese Restaurant",
               "pluralName": "Vietnamese Restaurants",
               "primary": true,
               "shortName": "Vietnamese"
              }
             ],
             "id": "4b6cce3cf964a520b3552ce3",
             "location": {
              "address": "6432 Old Band Coach Road SW",
              "cc": "CA",
              "city": "Calgary",
              "country": "Canada",
              "distance": 4533,
              "formattedAddress": [
               "6432 Old Band Coach Road SW",
               "Calgary AB T3H 2H4",
               "Canada"
              ],
              "labeledLatLngs": [
               {
                "label": "display",
                "lat": 51.060721435395585,
                "lng": -114.1798301655114
               }
              ],
              "lat": 51.060721435395585,
              "lng": -114.1798301655114,
              "postalCode": "T3H 2H4",
              "state": "AB"
             },
             "name": "Treasures of Saigon",
             "photos": {
              "count": 0,
              "groups": []
             }
            }
           },
           {
            "reasons": {
             "count": 0,
             "items": [
              {
               "reasonName": "globalInteractionReason",
               "summary": "This spot is popular",
               "type": "general"
              }
             ]
            },
            "referralId": "e-0-4b9adb33f964a520a2dc35e3-68",
            "venue": {
             "categories": [
              {
               "icon": {
                "prefix": "https://ss3.4sqi.net/img/categories_v2/food/fastfood_",
                "suffix": ".png"
               },
               "id": "4bf58dd8d48988d16e941735",
               "name": "Fast Food Restaurant",
               "pluralName": "Fast Food Restaurants",
               "primary": true,
               "shortName": "Fast Food"
              }
             ],
             "id": "4b9adb33f964a520a2dc35e3",
             "location": {
              "address": "170 Stewart Green SW",
              "cc": "CA",
              "city": "Calgary",
              "country": "Canada",
              "distance": 935,
              "formattedAddress": [
               "170 Stewart Green SW",
               "Calgary AB T3H 3C8",
               "Canada"
              ],
              "labeledLatLngs": [
               {
                "label": "display",
                "lat": 51.0163,
                "lng": -114.168
               }
              ],
              "lat": 51.0163,
              "lng": -114.168,
              "postalCode": "T3H 3C8",
              "state": "AB"
             },
             "name": "KFC",
             "photos": {
              "count": 0,
              "groups": []
             },
             "venuePage": {
              "id": "1359974979"
             }
            }
           },
           {
            "reasons": {
             "count": 0,
             "items": [
              {
               "reasonName": "globalInteractionReason",
               "summary": "This spot is popular",
               "type": "general"
              }
             ]
            },
            "referralId": "e-0-4b0586ebf964a5205e7522e3-69",
            "venue": {
             "categories": [
              {
               "icon": {
                "prefix": "https://ss3.4sqi.net/img/categories_v2/food/default_",
                "suffix": ".png"
               },
               "id": "4bf58dd8d48988d1c4941735",
               "name": "Restaurant",
               "pluralName": "Restaurants",
               "primary": true,
               "shortName": "Restaurant"
              }
             ],
             "id": "4b0586ebf964a5205e7522e3",
             "location": {
              "address": "5622 Signal Hill Ctr SW",
              "cc": "CA",
              "city": "Calgary",
              "country": "Canada",
              "distance": 844,
              "formattedAddress": [
               "5622 Signal Hill Ctr SW",
               "Calgary AB T3H 3P8",
               "Canada"
              ],
              "labeledLatLngs": [
               {
                "label": "display",
                "lat": 51.01959654697074,
                "lng": -114.16795864479894
               }
              ],
              "lat": 51.01959654697074,
              "lng": -114.16795864479894,
              "postalCode": "T3H 3P8",
              "state": "AB"
             },
             "name": "Montana's",
             "photos": {
              "count": 0,
              "groups": []
             }
            }
           },
           {
            "reasons": {
             "count": 0,
             "items": [
              {
               "reasonName": "globalInteractionReason",
               "summary": "This spot is popular",
               "type": "general"
              }
             ]
            },
            "referralId": "e-0-4e14b45c52b1695f9931b447-70",
            "venue": {
             "categories": [
              {
               "icon": {
                "prefix": "https://ss3.4sqi.net/img/categories_v2/food/pizza_",
                "suffix": ".png"
               },
               "id": "4bf58dd8d48988d1ca941735",
               "name": "Pizza Place",
               "pluralName": "Pizza Places",
               "primary": true,
               "shortName": "Pizza"
              }
             ],
             "id": "4e14b45c52b1695f9931b447",
             "location": {
              "address": "440 - 1919 Sirocco Dr SW",
              "cc": "CA",
              "city": "Calgary",
              "country": "Canada",
              "distance": 1993,
              "formattedAddress": [
               "440 - 1919 Sirocco Dr SW",
               "Calgary AB T3H 2Y3",
               "Canada"
              ],
              "labeledLatLngs": [
               {
                "label": "display",
                "lat": 51.03569682453988,
                "lng": -114.16629430740227
               }
              ],
              "lat": 51.03569682453988,
              "lng": -114.16629430740227,
              "postalCode": "T3H 2Y3",
              "state": "AB"
             },
             "name": "Pizza Hut Calgary",
             "photos": {
              "count": 0,
              "groups": []
             }
            }
           },
           {
            "reasons": {
             "count": 0,
             "items": [
              {
               "reasonName": "globalInteractionReason",
               "summary": "This spot is popular",
               "type": "general"
              }
             ]
            },
            "referralId": "e-0-50a052d8e4b005ec0150e60e-71",
            "venue": {
             "categories": [
              {
               "icon": {
                "prefix": "https://ss3.4sqi.net/img/categories_v2/food/tapas_",
                "suffix": ".png"
               },
               "id": "4bf58dd8d48988d1db931735",
               "name": "Tapas Restaurant",
               "pluralName": "Tapas Restaurants",
               "primary": true,
               "shortName": "Tapas"
              }
             ],
             "id": "50a052d8e4b005ec0150e60e",
             "location": {
              "address": "3102, 8561 8a Ave.",
              "cc": "CA",
              "city": "Calgary",
              "country": "Canada",
              "distance": 5003,
              "formattedAddress": [
               "3102, 8561 8a Ave.",
               "Calgary AB T3H 0V5",
               "Canada"
              ],
              "labeledLatLngs": [
               {
                "label": "display",
                "lat": 51.060566102339855,
                "lng": -114.21078004293817
               }
              ],
              "lat": 51.060566102339855,
              "lng": -114.21078004293817,
              "postalCode": "T3H 0V5",
              "state": "AB"
             },
             "name": "Vin Room",
             "photos": {
              "count": 0,
              "groups": []
             }
            }
           },
           {
            "reasons": {
             "count": 0,
             "items": [
              {
               "reasonName": "globalInteractionReason",
               "summary": "This spot is popular",
               "type": "general"
              }
             ]
            },
            "referralId": "e-0-4d672b42cba6a35dd504cac1-72",
            "venue": {
             "categories": [
              {
               "icon": {
                "prefix": "https://ss3.4sqi.net/img/categories_v2/food/pizza_",
                "suffix": ".png"
               },
               "id": "4bf58dd8d48988d1ca941735",
               "name": "Pizza Place",
               "pluralName": "Pizza Places",
               "primary": true,
               "shortName": "Pizza"
              }
             ],
             "id": "4d672b42cba6a35dd504cac1",
             "location": {
              "address": "4604 37th St SW",
              "cc": "CA",
              "city": "Calgary",
              "country": "Canada",
              "distance": 2873,
              "formattedAddress": [
               "4604 37th St SW",
               "Calgary AB T3E 3C9",
               "Canada"
              ],
              "labeledLatLngs": [
               {
                "label": "display",
                "lat": 51.01394521339212,
                "lng": -114.14011899348206
               }
              ],
              "lat": 51.01394521339212,
              "lng": -114.14011899348206,
              "postalCode": "T3E 3C9",
              "state": "AB"
             },
             "name": "Pizza Hut Calgary",
             "photos": {
              "count": 0,
              "groups": []
             }
            }
           },
           {
            "reasons": {
             "count": 0,
             "items": [
              {
               "reasonName": "globalInteractionReason",
               "summary": "This spot is popular",
               "type": "general"
              }
             ]
            },
            "referralId": "e-0-4b6c7837f964a520a93c2ce3-73",
            "venue": {
             "categories": [
              {
               "icon": {
                "prefix": "https://ss3.4sqi.net/img/categories_v2/food/deli_",
                "suffix": ".png"
               },
               "id": "4bf58dd8d48988d1c5941735",
               "name": "Sandwich Place",
               "pluralName": "Sandwich Places",
               "primary": true,
               "shortName": "Sandwiches"
              }
             ],
             "id": "4b6c7837f964a520a93c2ce3",
             "location": {
              "address": "306 Aspen Glen Landing SW, Unit #120",
              "cc": "CA",
              "city": "Calgary",
              "country": "Canada",
              "distance": 2866,
              "formattedAddress": [
               "306 Aspen Glen Landing SW, Unit #120",
               "Calgary AB T3H 0N5",
               "Canada"
              ],
              "labeledLatLngs": [
               {
                "label": "display",
                "lat": 51.039013166876245,
                "lng": -114.20762281525401
               }
              ],
              "lat": 51.039013166876245,
              "lng": -114.20762281525401,
              "neighborhood": "Aspen Woods",
              "postalCode": "T3H 0N5",
              "state": "AB"
             },
             "name": "Subway",
             "photos": {
              "count": 0,
              "groups": []
             }
            }
           },
           {
            "reasons": {
             "count": 0,
             "items": [
              {
               "reasonName": "globalInteractionReason",
               "summary": "This spot is popular",
               "type": "general"
              }
             ]
            },
            "referralId": "e-0-4b3cc7edf964a520368725e3-74",
            "venue": {
             "categories": [
              {
               "icon": {
                "prefix": "https://ss3.4sqi.net/img/categories_v2/food/diner_",
                "suffix": ".png"
               },
               "id": "4bf58dd8d48988d147941735",
               "name": "Diner",
               "pluralName": "Diners",
               "primary": true,
               "shortName": "Diner"
              }
             ],
             "id": "4b3cc7edf964a520368725e3",
             "location": {
              "address": "1-2008 33 Ave SW",
              "cc": "CA",
              "city": "Calgary",
              "country": "Canada",
              "distance": 5079,
              "formattedAddress": [
               "1-2008 33 Ave SW",
               "Calgary AB T2T 1Z4",
               "Canada"
              ],
              "lat": 51.02407992860065,
              "lng": -114.10774237123157,
              "postalCode": "T2T 1Z4",
              "state": "AB"
             },
             "name": "Belmont Diner",
             "photos": {
              "count": 0,
              "groups": []
             }
            }
           },
           {
            "reasons": {
             "count": 0,
             "items": [
              {
               "reasonName": "globalInteractionReason",
               "summary": "This spot is popular",
               "type": "general"
              }
             ]
            },
            "referralId": "e-0-4be9f94eb3352d7f02b454d2-75",
            "venue": {
             "categories": [
              {
               "icon": {
                "prefix": "https://ss3.4sqi.net/img/categories_v2/food/default_",
                "suffix": ".png"
               },
               "id": "4bf58dd8d48988d1c4941735",
               "name": "Restaurant",
               "pluralName": "Restaurants",
               "primary": true,
               "shortName": "Restaurant"
              }
             ],
             "id": "4be9f94eb3352d7f02b454d2",
             "location": {
              "address": "5658 Signal Hill Ctr SW",
              "cc": "CA",
              "city": "Calgary",
              "country": "Canada",
              "distance": 711,
              "formattedAddress": [
               "5658 Signal Hill Ctr SW",
               "Calgary AB T3H 3P8",
               "Canada"
              ],
              "labeledLatLngs": [
               {
                "label": "display",
                "lat": 51.0191035859043,
                "lng": -114.16994104942574
               }
              ],
              "lat": 51.0191035859043,
              "lng": -114.16994104942574,
              "postalCode": "T3H 3P8",
              "state": "AB"
             },
             "name": "Swiss Chalet",
             "photos": {
              "count": 0,
              "groups": []
             }
            }
           },
           {
            "reasons": {
             "count": 0,
             "items": [
              {
               "reasonName": "globalInteractionReason",
               "summary": "This spot is popular",
               "type": "general"
              }
             ]
            },
            "referralId": "e-0-4b0c02f2f964a520ac3523e3-76",
            "venue": {
             "categories": [
              {
               "icon": {
                "prefix": "https://ss3.4sqi.net/img/categories_v2/food/cafe_",
                "suffix": ".png"
               },
               "id": "4bf58dd8d48988d16d941735",
               "name": "Café",
               "pluralName": "Cafés",
               "primary": true,
               "shortName": "Café"
              }
             ],
             "id": "4b0c02f2f964a520ac3523e3",
             "location": {
              "address": "5644 Signal Hill Centre SW",
              "cc": "CA",
              "city": "Calgary",
              "country": "Canada",
              "distance": 725,
              "formattedAddress": [
               "5644 Signal Hill Centre SW",
               "Calgary AB T3H 3P8",
               "Canada"
              ],
              "labeledLatLngs": [
               {
                "label": "display",
                "lat": 51.0191631,
                "lng": -114.1697189
               }
              ],
              "lat": 51.0191631,
              "lng": -114.1697189,
              "postalCode": "T3H 3P8",
              "state": "AB"
             },
             "name": "Second Cup Café",
             "photos": {
              "count": 0,
              "groups": []
             }
            }
           },
           {
            "reasons": {
             "count": 0,
             "items": [
              {
               "reasonName": "globalInteractionReason",
               "summary": "This spot is popular",
               "type": "general"
              }
             ]
            },
            "referralId": "e-0-4b9fc0b0f964a520633b37e3-77",
            "venue": {
             "categories": [
              {
               "icon": {
                "prefix": "https://ss3.4sqi.net/img/categories_v2/food/deli_",
                "suffix": ".png"
               },
               "id": "4bf58dd8d48988d1c5941735",
               "name": "Sandwich Place",
               "pluralName": "Sandwich Places",
               "primary": true,
               "shortName": "Sandwiches"
              }
             ],
             "id": "4b9fc0b0f964a520633b37e3",
             "location": {
              "address": "3701 17th Ave SW",
              "cc": "CA",
              "city": "Calgary",
              "country": "Canada",
              "crossStreet": "37th St SW",
              "distance": 3411,
              "formattedAddress": [
               "3701 17th Ave SW (37th St SW)",
               "Calgary AB T3E 0C1",
               "Canada"
              ],
              "labeledLatLngs": [
               {
                "label": "display",
                "lat": 51.037538928753946,
                "lng": -114.14004877728081
               }
              ],
              "lat": 51.037538928753946,
              "lng": -114.14004877728081,
              "postalCode": "T3E 0C1",
              "state": "AB"
             },
             "name": "Subway",
             "photos": {
              "count": 0,
              "groups": []
             }
            }
           },
           {
            "reasons": {
             "count": 0,
             "items": [
              {
               "reasonName": "globalInteractionReason",
               "summary": "This spot is popular",
               "type": "general"
              }
             ]
            },
            "referralId": "e-0-4fa32bfce4b08e1f872c712e-78",
            "venue": {
             "categories": [
              {
               "icon": {
                "prefix": "https://ss3.4sqi.net/img/categories_v2/food/thai_",
                "suffix": ".png"
               },
               "id": "4bf58dd8d48988d149941735",
               "name": "Thai Restaurant",
               "pluralName": "Thai Restaurants",
               "primary": true,
               "shortName": "Thai"
              }
             ],
             "id": "4fa32bfce4b08e1f872c712e",
             "location": {
              "address": "MRU",
              "cc": "CA",
              "city": "Calgary",
              "country": "Canada",
              "crossStreet": "Wyckham House",
              "distance": 3388,
              "formattedAddress": [
               "MRU (Wyckham House)",
               "Calgary AB T3E 6X4",
               "Canada"
              ],
              "labeledLatLngs": [
               {
                "label": "display",
                "lat": 51.01381678696902,
                "lng": -114.13262144293628
               }
              ],
              "lat": 51.01381678696902,
              "lng": -114.13262144293628,
              "postalCode": "T3E 6X4",
              "state": "AB"
             },
             "name": "Thai Express",
             "photos": {
              "count": 0,
              "groups": []
             }
            }
           },
           {
            "reasons": {
             "count": 0,
             "items": [
              {
               "reasonName": "globalInteractionReason",
               "summary": "This spot is popular",
               "type": "general"
              }
             ]
            },
            "referralId": "e-0-4c2bdd9c2219c9287f52a548-79",
            "venue": {
             "categories": [
              {
               "icon": {
                "prefix": "https://ss3.4sqi.net/img/categories_v2/food/deli_",
                "suffix": ".png"
               },
               "id": "4bf58dd8d48988d1c5941735",
               "name": "Sandwich Place",
               "pluralName": "Sandwich Places",
               "primary": true,
               "shortName": "Sandwiches"
              }
             ],
             "id": "4c2bdd9c2219c9287f52a548",
             "location": {
              "cc": "CA",
              "country": "Canada",
              "distance": 6798,
              "formattedAddress": [
               "Canada"
              ],
              "labeledLatLngs": [
               {
                "label": "display",
                "lat": 50.97204,
                "lng": -114.119929
               }
              ],
              "lat": 50.97204,
              "lng": -114.119929
             },
             "name": "Subway",
             "photos": {
              "count": 0,
              "groups": []
             }
            }
           },
           {
            "reasons": {
             "count": 0,
             "items": [
              {
               "reasonName": "globalInteractionReason",
               "summary": "This spot is popular",
               "type": "general"
              }
             ]
            },
            "referralId": "e-0-4c005e929cf52d7f81ae13e7-80",
            "venue": {
             "categories": [
              {
               "icon": {
                "prefix": "https://ss3.4sqi.net/img/categories_v2/food/thai_",
                "suffix": ".png"
               },
               "id": "4bf58dd8d48988d149941735",
               "name": "Thai Restaurant",
               "pluralName": "Thai Restaurants",
               "primary": true,
               "shortName": "Thai"
              }
             ],
             "id": "4c005e929cf52d7f81ae13e7",
             "location": {
              "address": "1904 36 St SW",
              "cc": "CA",
              "city": "Calgary",
              "country": "Canada",
              "crossStreet": "17 Ave SW",
              "distance": 3453,
              "formattedAddress": [
               "1904 36 St SW (17 Ave SW)",
               "Calgary AB T3E 2X4",
               "Canada"
              ],
              "labeledLatLngs": [
               {
                "label": "display",
                "lat": 51.03773714442074,
                "lng": -114.13952248253527
               }
              ],
              "lat": 51.03773714442074,
              "lng": -114.13952248253527,
              "postalCode": "T3E 2X4",
              "state": "AB"
             },
             "name": "Chilli Club Thai House",
             "photos": {
              "count": 0,
              "groups": []
             }
            }
           },
           {
            "reasons": {
             "count": 0,
             "items": [
              {
               "reasonName": "globalInteractionReason",
               "summary": "This spot is popular",
               "type": "general"
              }
             ]
            },
            "referralId": "e-0-4c0d5650336220a19192ca77-81",
            "venue": {
             "categories": [
              {
               "icon": {
                "prefix": "https://ss3.4sqi.net/img/categories_v2/food/deli_",
                "suffix": ".png"
               },
               "id": "4bf58dd8d48988d1c5941735",
               "name": "Sandwich Place",
               "pluralName": "Sandwich Places",
               "primary": true,
               "shortName": "Sandwiches"
              }
             ],
             "id": "4c0d5650336220a19192ca77",
             "location": {
              "address": "2105 33rd Ave SW",
              "cc": "CA",
              "city": "Calgary",
              "country": "Canada",
              "distance": 4923,
              "formattedAddress": [
               "2105 33rd Ave SW",
               "Calgary AB T2T 1Z7",
               "Canada"
              ],
              "labeledLatLngs": [
               {
                "label": "display",
                "lat": 51.02383511310923,
                "lng": -114.109947271755
               }
              ],
              "lat": 51.02383511310923,
              "lng": -114.109947271755,
              "postalCode": "T2T 1Z7",
              "state": "AB"
             },
             "name": "Subway",
             "photos": {
              "count": 0,
              "groups": []
             }
            }
           },
           {
            "reasons": {
             "count": 0,
             "items": [
              {
               "reasonName": "globalInteractionReason",
               "summary": "This spot is popular",
               "type": "general"
              }
             ]
            },
            "referralId": "e-0-4c38a88793db0f47b9f12192-82",
            "venue": {
             "categories": [
              {
               "icon": {
                "prefix": "https://ss3.4sqi.net/img/categories_v2/food/cafe_",
                "suffix": ".png"
               },
               "id": "4bf58dd8d48988d16d941735",
               "name": "Café",
               "pluralName": "Cafés",
               "primary": true,
               "shortName": "Café"
              }
             ],
             "id": "4c38a88793db0f47b9f12192",
             "location": {
              "address": "#160 - 30 Springborough Blvd. SW",
              "cc": "CA",
              "city": "Calgary",
              "country": "Canada",
              "distance": 1780,
              "formattedAddress": [
               "#160 - 30 Springborough Blvd. SW",
               "Calgary AB T3H 0N9",
               "Canada"
              ],
              "labeledLatLngs": [
               {
                "label": "display",
                "lat": 51.03420969298483,
                "lng": -114.19166302507892
               }
              ],
              "lat": 51.03420969298483,
              "lng": -114.19166302507892,
              "postalCode": "T3H 0N9",
              "state": "AB"
             },
             "name": "Waves Coffee House",
             "photos": {
              "count": 0,
              "groups": []
             }
            }
           },
           {
            "reasons": {
             "count": 0,
             "items": [
              {
               "reasonName": "globalInteractionReason",
               "summary": "This spot is popular",
               "type": "general"
              }
             ]
            },
            "referralId": "e-0-4d2624b8d2668cfa2a14c5db-83",
            "venue": {
             "categories": [
              {
               "icon": {
                "prefix": "https://ss3.4sqi.net/img/categories_v2/food/deli_",
                "suffix": ".png"
               },
               "id": "4bf58dd8d48988d1c5941735",
               "name": "Sandwich Place",
               "pluralName": "Sandwich Places",
               "primary": true,
               "shortName": "Sandwiches"
              }
             ],
             "id": "4d2624b8d2668cfa2a14c5db",
             "location": {
              "address": "4712 16th Ave NW",
              "cc": "CA",
              "city": "Calgary",
              "country": "Canada",
              "distance": 5948,
              "formattedAddress": [
               "4712 16th Ave NW",
               "Calgary AB T3B 0N1",
               "Canada"
              ],
              "labeledLatLngs": [
               {
                "label": "display",
                "lat": 51.07237737022286,
                "lng": -114.16315777163834
               }
              ],
              "lat": 51.07237737022286,
              "lng": -114.16315777163834,
              "postalCode": "T3B 0N1",
              "state": "AB"
             },
             "name": "Subway",
             "photos": {
              "count": 0,
              "groups": []
             }
            }
           },
           {
            "reasons": {
             "count": 0,
             "items": [
              {
               "reasonName": "globalInteractionReason",
               "summary": "This spot is popular",
               "type": "general"
              }
             ]
            },
            "referralId": "e-0-4dcb5515c65bccd86744de6d-84",
            "venue": {
             "categories": [
              {
               "icon": {
                "prefix": "https://ss3.4sqi.net/img/categories_v2/food/pizza_",
                "suffix": ".png"
               },
               "id": "4bf58dd8d48988d1ca941735",
               "name": "Pizza Place",
               "pluralName": "Pizza Places",
               "primary": true,
               "shortName": "Pizza"
              }
             ],
             "id": "4dcb5515c65bccd86744de6d",
             "location": {
              "address": "Bay 1A 5012 16th Ave NW",
              "cc": "CA",
              "city": "Calgary",
              "country": "Canada",
              "distance": 6065,
              "formattedAddress": [
               "Bay 1A 5012 16th Ave NW",
               "Calgary AB T3B 0N3",
               "Canada"
              ],
              "labeledLatLngs": [
               {
                "label": "display",
                "lat": 51.07368831777737,
                "lng": -114.16522275545276
               }
              ],
              "lat": 51.07368831777737,
              "lng": -114.16522275545276,
              "postalCode": "T3B 0N3",
              "state": "AB"
             },
             "name": "Pizza Hut Calgary",
             "photos": {
              "count": 0,
              "groups": []
             }
            }
           },
           {
            "reasons": {
             "count": 0,
             "items": [
              {
               "reasonName": "globalInteractionReason",
               "summary": "This spot is popular",
               "type": "general"
              }
             ]
            },
            "referralId": "e-0-4bbd63e2f57ba593931aaeb9-85",
            "venue": {
             "categories": [
              {
               "icon": {
                "prefix": "https://ss3.4sqi.net/img/categories_v2/food/fastfood_",
                "suffix": ".png"
               },
               "id": "4bf58dd8d48988d16e941735",
               "name": "Fast Food Restaurant",
               "pluralName": "Fast Food Restaurants",
               "primary": true,
               "shortName": "Fast Food"
              }
             ],
             "id": "4bbd63e2f57ba593931aaeb9",
             "location": {
              "address": "3611 17th Avenue S.W.",
              "cc": "CA",
              "city": "Calgary",
              "country": "Canada",
              "distance": 3482,
              "formattedAddress": [
               "3611 17th Avenue S.W.",
               "Calgary AB T3E 0B9",
               "Canada"
              ],
              "labeledLatLngs": [
               {
                "label": "display",
                "lat": 51.03744352198111,
                "lng": -114.13870852923117
               }
              ],
              "lat": 51.03744352198111,
              "lng": -114.13870852923117,
              "postalCode": "T3E 0B9",
              "state": "AB"
             },
             "name": "McDonald's",
             "photos": {
              "count": 0,
              "groups": []
             }
            }
           },
           {
            "reasons": {
             "count": 0,
             "items": [
              {
               "reasonName": "globalInteractionReason",
               "summary": "This spot is popular",
               "type": "general"
              }
             ]
            },
            "referralId": "e-0-4b873a26f964a5206db731e3-86",
            "venue": {
             "categories": [
              {
               "icon": {
                "prefix": "https://ss3.4sqi.net/img/categories_v2/food/fastfood_",
                "suffix": ".png"
               },
               "id": "4bf58dd8d48988d16e941735",
               "name": "Fast Food Restaurant",
               "pluralName": "Fast Food Restaurants",
               "primary": true,
               "shortName": "Fast Food"
              }
             ],
             "id": "4b873a26f964a5206db731e3",
             "location": {
              "address": "1720-37th St S W",
              "cc": "CA",
              "city": "Calgary",
              "country": "Canada",
              "distance": 3434,
              "formattedAddress": [
               "1720-37th St S W",
               "Calgary AB T3C 3R1",
               "Canada"
              ],
              "labeledLatLngs": [
               {
                "label": "display",
                "lat": 51.038476226233755,
                "lng": -114.14071449640687
               }
              ],
              "lat": 51.038476226233755,
              "lng": -114.14071449640687,
              "postalCode": "T3C 3R1",
              "state": "AB"
             },
             "name": "Wendy’s",
             "photos": {
              "count": 0,
              "groups": []
             }
            }
           },
           {
            "reasons": {
             "count": 0,
             "items": [
              {
               "reasonName": "globalInteractionReason",
               "summary": "This spot is popular",
               "type": "general"
              }
             ]
            },
            "referralId": "e-0-4bf2084752bda5934c49b2b7-87",
            "venue": {
             "categories": [
              {
               "icon": {
                "prefix": "https://ss3.4sqi.net/img/categories_v2/food/pizza_",
                "suffix": ".png"
               },
               "id": "4bf58dd8d48988d1ca941735",
               "name": "Pizza Place",
               "pluralName": "Pizza Places",
               "primary": true,
               "shortName": "Pizza"
              }
             ],
             "id": "4bf2084752bda5934c49b2b7",
             "location": {
              "address": "5755 SIGNAL HILL CENTER S.W.",
              "cc": "CA",
              "city": "Calgary",
              "country": "Canada",
              "distance": 596,
              "formattedAddress": [
               "5755 SIGNAL HILL CENTER S.W.",
               "Calgary AB T2H 3P8",
               "Canada"
              ],
              "labeledLatLngs": [
               {
                "label": "display",
                "lat": 51.0176465619243,
                "lng": -114.17235283127361
               }
              ],
              "lat": 51.0176465619243,
              "lng": -114.17235283127361,
              "postalCode": "T2H 3P8",
              "state": "AB"
             },
             "name": "Little Caesars Pizza",
             "photos": {
              "count": 0,
              "groups": []
             }
            }
           },
           {
            "reasons": {
             "count": 0,
             "items": [
              {
               "reasonName": "globalInteractionReason",
               "summary": "This spot is popular",
               "type": "general"
              }
             ]
            },
            "referralId": "e-0-5d3361650be70b0008d44e34-88",
            "venue": {
             "categories": [
              {
               "icon": {
                "prefix": "https://ss3.4sqi.net/img/categories_v2/food/breakfast_",
                "suffix": ".png"
               },
               "id": "4bf58dd8d48988d143941735",
               "name": "Breakfast Spot",
               "pluralName": "Breakfast Spots",
               "primary": true,
               "shortName": "Breakfast"
              }
             ],
             "id": "5d3361650be70b0008d44e34",
             "location": {
              "cc": "CA",
              "city": "Calgary",
              "country": "Canada",
              "distance": 686,
              "formattedAddress": [
               "Calgary AB T3H 3C8",
               "Canada"
              ],
              "labeledLatLngs": [
               {
                "label": "display",
                "lat": 51.017866,
                "lng": -114.170798
               }
              ],
              "lat": 51.017866,
              "lng": -114.170798,
              "postalCode": "T3H 3C8",
              "state": "AB"
             },
             "name": "The Bro’kin Yolk",
             "photos": {
              "count": 0,
              "groups": []
             }
            }
           },
           {
            "reasons": {
             "count": 0,
             "items": [
              {
               "reasonName": "globalInteractionReason",
               "summary": "This spot is popular",
               "type": "general"
              }
             ]
            },
            "referralId": "e-0-5c0973d4345cbe003914c728-89",
            "venue": {
             "categories": [
              {
               "icon": {
                "prefix": "https://ss3.4sqi.net/img/categories_v2/food/sushi_",
                "suffix": ".png"
               },
               "id": "4bf58dd8d48988d1d2941735",
               "name": "Sushi Restaurant",
               "pluralName": "Sushi Restaurants",
               "primary": true,
               "shortName": "Sushi"
              }
             ],
             "id": "5c0973d4345cbe003914c728",
             "location": {
              "address": "Westhills",
              "cc": "CA",
              "city": "Calgary",
              "country": "Canada",
              "distance": 938,
              "formattedAddress": [
               "Westhills",
               "Calgary AB T3H 3C8",
               "Canada"
              ],
              "labeledLatLngs": [
               {
                "label": "display",
                "lat": 51.01723,
                "lng": -114.16734
               }
              ],
              "lat": 51.01723,
              "lng": -114.16734,
              "postalCode": "T3H 3C8",
              "state": "AB"
             },
             "name": "Kinjo Sushi & Grill",
             "photos": {
              "count": 0,
              "groups": []
             }
            }
           },
           {
            "reasons": {
             "count": 0,
             "items": [
              {
               "reasonName": "globalInteractionReason",
               "summary": "This spot is popular",
               "type": "general"
              }
             ]
            },
            "referralId": "e-0-4be5e777d4f7c9b6631d2620-90",
            "venue": {
             "categories": [
              {
               "icon": {
                "prefix": "https://ss3.4sqi.net/img/categories_v2/food/bakery_",
                "suffix": ".png"
               },
               "id": "4bf58dd8d48988d16a941735",
               "name": "Bakery",
               "pluralName": "Bakeries",
               "primary": true,
               "shortName": "Bakery"
              }
             ],
             "id": "4be5e777d4f7c9b6631d2620",
             "location": {
              "address": "236 Stewart Green SW",
              "cc": "CA",
              "city": "Calgary",
              "country": "Canada",
              "crossStreet": "at Richmond Rd SW",
              "distance": 948,
              "formattedAddress": [
               "236 Stewart Green SW (at Richmond Rd SW)",
               "Calgary AB T3H 3C8",
               "Canada"
              ],
              "labeledLatLngs": [
               {
                "label": "display",
                "lat": 51.01477481661445,
                "lng": -114.16929651213205
               }
              ],
              "lat": 51.01477481661445,
              "lng": -114.16929651213205,
              "postalCode": "T3H 3C8",
              "state": "AB"
             },
             "name": "COBS Bread",
             "photos": {
              "count": 0,
              "groups": []
             }
            }
           },
           {
            "reasons": {
             "count": 0,
             "items": [
              {
               "reasonName": "globalInteractionReason",
               "summary": "This spot is popular",
               "type": "general"
              }
             ]
            },
            "referralId": "e-0-4b4a9262f964a520d98a26e3-91",
            "venue": {
             "categories": [
              {
               "icon": {
                "prefix": "https://ss3.4sqi.net/img/categories_v2/food/asian_",
                "suffix": ".png"
               },
               "id": "4bf58dd8d48988d145941735",
               "name": "Chinese Restaurant",
               "pluralName": "Chinese Restaurants",
               "primary": true,
               "shortName": "Chinese"
              }
             ],
             "id": "4b4a9262f964a520d98a26e3",
             "location": {
              "address": "2913 Richmond Rd SW",
              "cc": "CA",
              "city": "Calgary",
              "country": "Canada",
              "distance": 3646,
              "formattedAddress": [
               "2913 Richmond Rd SW",
               "Calgary AB",
               "Canada"
              ],
              "labeledLatLngs": [
               {
                "label": "display",
                "lat": 51.02570896415199,
                "lng": -114.12872035758251
               }
              ],
              "lat": 51.02570896415199,
              "lng": -114.12872035758251,
              "state": "AB"
             },
             "name": "Lemon Garden Chinese Food",
             "photos": {
              "count": 0,
              "groups": []
             }
            }
           },
           {
            "reasons": {
             "count": 0,
             "items": [
              {
               "reasonName": "globalInteractionReason",
               "summary": "This spot is popular",
               "type": "general"
              }
             ]
            },
            "referralId": "e-0-4b9dc2fbf964a520c2bc36e3-92",
            "venue": {
             "categories": [
              {
               "icon": {
                "prefix": "https://ss3.4sqi.net/img/categories_v2/food/pizza_",
                "suffix": ".png"
               },
               "id": "4bf58dd8d48988d1ca941735",
               "name": "Pizza Place",
               "pluralName": "Pizza Places",
               "primary": true,
               "shortName": "Pizza"
              }
             ],
             "id": "4b9dc2fbf964a520c2bc36e3",
             "location": {
              "address": "1313 33 St SW",
              "cc": "CA",
              "city": "Calgary",
              "country": "Canada",
              "distance": 3854,
              "formattedAddress": [
               "1313 33 St SW",
               "Calgary AB T3C 1P2",
               "Canada"
              ],
              "labeledLatLngs": [
               {
                "label": "display",
                "lat": 51.04118135041666,
                "lng": -114.13644181132183
               }
              ],
              "lat": 51.04118135041666,
              "lng": -114.13644181132183,
              "postalCode": "T3C 1P2",
              "state": "AB"
             },
             "name": "Boston Pizza",
             "photos": {
              "count": 0,
              "groups": []
             }
            }
           },
           {
            "reasons": {
             "count": 0,
             "items": [
              {
               "reasonName": "globalInteractionReason",
               "summary": "This spot is popular",
               "type": "general"
              }
             ]
            },
            "referralId": "e-0-54b1e0a7498e03abcc3fcbe4-93",
            "venue": {
             "categories": [
              {
               "icon": {
                "prefix": "https://ss3.4sqi.net/img/categories_v2/food/fastfood_",
                "suffix": ".png"
               },
               "id": "4bf58dd8d48988d16e941735",
               "name": "Fast Food Restaurant",
               "pluralName": "Fast Food Restaurants",
               "primary": true,
               "shortName": "Fast Food"
              }
             ],
             "id": "54b1e0a7498e03abcc3fcbe4",
             "location": {
              "address": "116-89th Street Southwest",
              "cc": "CA",
              "city": "Calgary",
              "country": "Canada",
              "distance": 5780,
              "formattedAddress": [
               "116-89th Street Southwest",
               "Calgary AB T3H 0M4",
               "Canada"
              ],
              "labeledLatLngs": [
               {
                "label": "display",
                "lat": 51.066639,
                "lng": -114.216304
               }
              ],
              "lat": 51.066639,
              "lng": -114.216304,
              "postalCode": "T3H 0M4",
              "state": "AB"
             },
             "name": "A&W",
             "photos": {
              "count": 0,
              "groups": []
             }
            }
           },
           {
            "reasons": {
             "count": 0,
             "items": [
              {
               "reasonName": "globalInteractionReason",
               "summary": "This spot is popular",
               "type": "general"
              }
             ]
            },
            "referralId": "e-0-4ba272a4f964a520e9f937e3-94",
            "venue": {
             "categories": [
              {
               "icon": {
                "prefix": "https://ss3.4sqi.net/img/categories_v2/food/asian_",
                "suffix": ".png"
               },
               "id": "4bf58dd8d48988d142941735",
               "name": "Asian Restaurant",
               "pluralName": "Asian Restaurants",
               "primary": true,
               "shortName": "Asian"
              }
             ],
             "id": "4ba272a4f964a520e9f937e3",
             "location": {
              "cc": "CA",
              "country": "Canada",
              "distance": 2810,
              "formattedAddress": [
               "Canada"
              ],
              "labeledLatLngs": [
               {
                "label": "display",
                "lat": 51.03843849285517,
                "lng": -114.20743117710336
               }
              ],
              "lat": 51.03843849285517,
              "lng": -114.20743117710336
             },
             "name": "Wok Box",
             "photos": {
              "count": 0,
              "groups": []
             }
            }
           },
           {
            "reasons": {
             "count": 0,
             "items": [
              {
               "reasonName": "globalInteractionReason",
               "summary": "This spot is popular",
               "type": "general"
              }
             ]
            },
            "referralId": "e-0-4c6f8d8bd7fab1f7fcdb5bc9-95",
            "venue": {
             "categories": [
              {
               "icon": {
                "prefix": "https://ss3.4sqi.net/img/categories_v2/food/pizza_",
                "suffix": ".png"
               },
               "id": "4bf58dd8d48988d1ca941735",
               "name": "Pizza Place",
               "pluralName": "Pizza Places",
               "primary": true,
               "shortName": "Pizza"
              }
             ],
             "id": "4c6f8d8bd7fab1f7fcdb5bc9",
             "location": {
              "address": "30 Springborough Blvd SW",
              "cc": "CA",
              "city": "Calgary",
              "country": "Canada",
              "distance": 1812,
              "formattedAddress": [
               "30 Springborough Blvd SW",
               "Calgary AB T3H 0N9",
               "Canada"
              ],
              "labeledLatLngs": [
               {
                "label": "display",
                "lat": 51.03451930183518,
                "lng": -114.19172749871008
               }
              ],
              "lat": 51.03451930183518,
              "lng": -114.19172749871008,
              "postalCode": "T3H 0N9",
              "state": "AB"
             },
             "name": "Domino's Pizza",
             "photos": {
              "count": 0,
              "groups": []
             }
            }
           },
           {
            "reasons": {
             "count": 0,
             "items": [
              {
               "reasonName": "globalInteractionReason",
               "summary": "This spot is popular",
               "type": "general"
              }
             ]
            },
            "referralId": "e-0-4ced6d323b03f04d543734dc-96",
            "venue": {
             "categories": [
              {
               "icon": {
                "prefix": "https://ss3.4sqi.net/img/categories_v2/food/fastfood_",
                "suffix": ".png"
               },
               "id": "4bf58dd8d48988d16e941735",
               "name": "Fast Food Restaurant",
               "pluralName": "Fast Food Restaurants",
               "primary": true,
               "shortName": "Fast Food"
              }
             ],
             "id": "4ced6d323b03f04d543734dc",
             "location": {
              "address": "1212 37th Street S.W., Wal-Mart - Westbrook Plaza",
              "cc": "CA",
              "city": "Calgary",
              "country": "Canada",
              "distance": 3729,
              "formattedAddress": [
               "1212 37th Street S.W., Wal-Mart - Westbrook Plaza",
               "Calgary AB T3C 1S3",
               "Canada"
              ],
              "labeledLatLngs": [
               {
                "label": "display",
                "lat": 51.041433,
                "lng": -114.1390473
               }
              ],
              "lat": 51.041433,
              "lng": -114.1390473,
              "postalCode": "T3C 1S3",
              "state": "AB"
             },
             "name": "McDonald's",
             "photos": {
              "count": 0,
              "groups": []
             }
            }
           },
           {
            "reasons": {
             "count": 0,
             "items": [
              {
               "reasonName": "globalInteractionReason",
               "summary": "This spot is popular",
               "type": "general"
              }
             ]
            },
            "referralId": "e-0-4dae25c55da3cca6f0a39f60-97",
            "venue": {
             "categories": [
              {
               "icon": {
                "prefix": "https://ss3.4sqi.net/img/categories_v2/food/fastfood_",
                "suffix": ".png"
               },
               "id": "4bf58dd8d48988d16e941735",
               "name": "Fast Food Restaurant",
               "pluralName": "Fast Food Restaurants",
               "primary": true,
               "shortName": "Fast Food"
              }
             ],
             "id": "4dae25c55da3cca6f0a39f60",
             "location": {
              "address": "5012 - 16th Avenue NW",
              "cc": "CA",
              "city": "Calgary",
              "country": "Canada",
              "distance": 6036,
              "formattedAddress": [
               "5012 - 16th Avenue NW",
               "Calgary AB T3B 0N3",
               "Canada"
              ],
              "labeledLatLngs": [
               {
                "label": "display",
                "lat": 51.0734,
                "lng": -114.165
               }
              ],
              "lat": 51.0734,
              "lng": -114.165,
              "postalCode": "T3B 0N3",
              "state": "AB"
             },
             "name": "KFC",
             "photos": {
              "count": 0,
              "groups": []
             },
             "venuePage": {
              "id": "1359975422"
             }
            }
           },
           {
            "reasons": {
             "count": 0,
             "items": [
              {
               "reasonName": "globalInteractionReason",
               "summary": "This spot is popular",
               "type": "general"
              }
             ]
            },
            "referralId": "e-0-4bc77accaf07a59366437f2d-98",
            "venue": {
             "categories": [
              {
               "icon": {
                "prefix": "https://ss3.4sqi.net/img/categories_v2/food/cafe_",
                "suffix": ".png"
               },
               "id": "4bf58dd8d48988d16d941735",
               "name": "Café",
               "pluralName": "Cafés",
               "primary": true,
               "shortName": "Café"
              }
             ],
             "id": "4bc77accaf07a59366437f2d",
             "location": {
              "cc": "CA",
              "city": "Calgary",
              "country": "Canada",
              "distance": 2373,
              "formattedAddress": [
               "Calgary AB",
               "Canada"
              ],
              "labeledLatLngs": [
               {
                "label": "display",
                "lat": 51.01585910258534,
                "lng": -114.21325341611941
               }
              ],
              "lat": 51.01585910258534,
              "lng": -114.21325341611941,
              "state": "AB"
             },
             "name": "Javino Coffee & Wine",
             "photos": {
              "count": 0,
              "groups": []
             }
            }
           },
           {
            "reasons": {
             "count": 0,
             "items": [
              {
               "reasonName": "globalInteractionReason",
               "summary": "This spot is popular",
               "type": "general"
              }
             ]
            },
            "referralId": "e-0-4ba0160ff964a520e15837e3-99",
            "venue": {
             "categories": [
              {
               "icon": {
                "prefix": "https://ss3.4sqi.net/img/categories_v2/food/deli_",
                "suffix": ".png"
               },
               "id": "4bf58dd8d48988d1c5941735",
               "name": "Sandwich Place",
               "pluralName": "Sandwich Places",
               "primary": true,
               "shortName": "Sandwiches"
              }
             ],
             "id": "4ba0160ff964a520e15837e3",
             "location": {
              "cc": "CA",
              "country": "Canada",
              "distance": 2564,
              "formattedAddress": [
               "Canada"
              ],
              "labeledLatLngs": [
               {
                "label": "display",
                "lat": 51.02078854872716,
                "lng": -114.14339576957504
               }
              ],
              "lat": 51.02078854872716,
              "lng": -114.14339576957504
             },
             "name": "Glamorgan Subway",
             "photos": {
              "count": 0,
              "groups": []
             }
            }
           }
          ],
          "name": "recommended",
          "type": "Recommended Places"
         }
        ],
        "headerFullLocation": "Calgary",
        "headerLocation": "Calgary",
        "headerLocationGranularity": "city",
        "query": "restaurant",
        "queryRefinements": {
         "refinements": [
          {
           "query": "food"
          },
          {
           "query": "nightlife"
          },
          {
           "query": "coffee"
          },
          {
           "query": "shops"
          },
          {
           "query": "arts"
          },
          {
           "query": "outdoors"
          }
         ],
         "target": {
          "params": {
           "ll": "51.020000,-114.180000",
           "query": "restaurant",
           "radius": "7000"
          },
          "type": "path",
          "url": "/venue/explore"
         }
        },
        "suggestedBounds": {
         "ne": {
          "lat": 51.083000063000064,
          "lng": -114.08003572548968
         },
         "sw": {
          "lat": 50.95699993699994,
          "lng": -114.27996427451033
         }
        },
        "suggestedFilters": {
         "filters": [
          {
           "key": "openNow",
           "name": "Open now"
          }
         ],
         "header": "Tap to show:"
        },
        "totalResults": 115
       }
      },
      "text/plain": [
       "<IPython.core.display.JSON object>"
      ]
     },
     "execution_count": 19,
     "metadata": {
      "application/json": {
       "expanded": false,
       "root": "root"
      }
     },
     "output_type": "execute_result"
    }
   ],
   "source": [
    "foursquare_json = foursquare_data.json()\n",
    "JSON(foursquare_json)"
   ]
  },
  {
   "cell_type": "code",
   "execution_count": null,
   "id": "79712fb5-3cd2-4693-9ea4-eb3f39161a92",
   "metadata": {},
   "outputs": [],
   "source": []
  }
 ],
 "metadata": {
  "kernelspec": {
   "display_name": "Python 3 (ipykernel)",
   "language": "python",
   "name": "python3"
  },
  "language_info": {
   "codemirror_mode": {
    "name": "ipython",
    "version": 3
   },
   "file_extension": ".py",
   "mimetype": "text/x-python",
   "name": "python",
   "nbconvert_exporter": "python",
   "pygments_lexer": "ipython3",
   "version": "3.9.7"
  }
 },
 "nbformat": 4,
 "nbformat_minor": 5
}
